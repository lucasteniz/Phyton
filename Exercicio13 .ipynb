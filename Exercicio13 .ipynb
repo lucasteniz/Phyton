{
 "cells": [
  {
   "cell_type": "markdown",
   "metadata": {},
   "source": [
    "## Lista de Exercícios 13\n",
    "Lucas Gabriel Teniz de Faria\n",
    "RA 81612246"
   ]
  },
  {
   "cell_type": "markdown",
   "metadata": {},
   "source": [
    "1 Defina a função soma_nat que recebe como argumento um número natural n\n",
    " e devolve a soma de todos os números naturais até n."
   ]
  },
  {
   "cell_type": "code",
   "execution_count": 1,
   "metadata": {},
   "outputs": [],
   "source": [
    "l_soma = lambda n: 1 if n == 1 else n + l_soma(n - 1)"
   ]
  },
  {
   "cell_type": "code",
   "execution_count": 2,
   "metadata": {},
   "outputs": [
    {
     "name": "stdout",
     "output_type": "stream",
     "text": [
      "15\n",
      "55\n"
     ]
    }
   ],
   "source": [
    "print(l_soma(5))\n",
    "print(l_soma(10)) "
   ]
  },
  {
   "cell_type": "markdown",
   "metadata": {},
   "source": [
    "2 Defina a função div que recebe como argumentos dois números naturais m\n",
    " e n e devolve o resultado da divisão inteira de m por n. Neste exercício você não\n",
    "pode recorrer às operações aritméticas de multiplicação, divisão e resto da divisão\n",
    "inteira."
   ]
  },
  {
   "cell_type": "code",
   "execution_count": 1,
   "metadata": {},
   "outputs": [
    {
     "name": "stdout",
     "output_type": "stream",
     "text": [
      "5\n",
      "3\n",
      "2\n"
     ]
    }
   ],
   "source": [
    "l_div = lambda m,n: 0 if m < n else 1 + l_div(m-n,n)  \n",
    "print(l_div(10,2))\n",
    "print(l_div(10,3))\n",
    "print(l_div(10,4))"
   ]
  },
  {
   "cell_type": "markdown",
   "metadata": {},
   "source": [
    "3 Defina a função prim_alg que recebe como argumento um número natural e\n",
    "devolve o primeiro algarismo (o mais significativo) na representação decimal de n.\n",
    "Ex: prim_alg(5649) = 5\n",
    "Ex: prim_alg(7) = 7"
   ]
  },
  {
   "cell_type": "code",
   "execution_count": 1,
   "metadata": {},
   "outputs": [
    {
     "name": "stdout",
     "output_type": "stream",
     "text": [
      "5\n"
     ]
    }
   ],
   "source": [
    "prim_alg = lambda n: n if n < 10 else prim_alg(n//10)\n",
    "\n",
    "print(prim_alg(5679)) "
   ]
  },
  {
   "cell_type": "markdown",
   "metadata": {},
   "source": [
    "4 Defina a função prod_lista que recebe como argumento uma lista de inteiros e\n",
    "devolve o produto dos seus elementos."
   ]
  },
  {
   "cell_type": "code",
   "execution_count": 2,
   "metadata": {},
   "outputs": [
    {
     "name": "stdout",
     "output_type": "stream",
     "text": [
      "654729075\n"
     ]
    }
   ],
   "source": [
    "prod_lista = lambda lista: lista[len(lista) - 1] * prod_lista(lista[:-1]) if len(lista) > 0 else 1\n",
    "print(prod_lista([1,3,5,7,9,11,13,15,17,19]))"
   ]
  },
  {
   "cell_type": "markdown",
   "metadata": {},
   "source": [
    "5 Defina a função contem_parQ que recebe como argumento uma lista de números\n",
    "inteiros w e devolve True se w contém um número par e False em caso contrário."
   ]
  },
  {
   "cell_type": "code",
   "execution_count": 3,
   "metadata": {},
   "outputs": [
    {
     "name": "stdout",
     "output_type": "stream",
     "text": [
      "True\n",
      "False\n"
     ]
    }
   ],
   "source": [
    "l_contem_parQ = lambda w: False if len(w) == 0 else True if w.pop()%2 == 0 else l_contem_parQ(w)\n",
    "print(l_contem_parQ([2,3,1,2,3,4]))\n",
    "print(l_contem_parQ([1,3,5,7]))"
   ]
  },
  {
   "cell_type": "markdown",
   "metadata": {},
   "source": [
    "6 Defina a função todos_imparesQ que recebe como argumento uma lista de\n",
    "números inteiros w e devolve True se w contém apenas números ímpares e False\n",
    "em caso contrário.\n",
    "Ex: todos_imparesQ([1,3,5,7]) = True\n",
    "Ex: todos_imparesQ([]) = True\n",
    "Ex: todos_imparesQ([1,2,3,4,5]) = False"
   ]
  },
  {
   "cell_type": "code",
   "execution_count": 2,
   "metadata": {},
   "outputs": [
    {
     "name": "stdout",
     "output_type": "stream",
     "text": [
      "True\n",
      "False\n",
      "True\n"
     ]
    }
   ],
   "source": [
    "todos_imparesQ = lambda w: True if len(w) == 0 or (w[len(w) - 1] % 2 != 0 and todos_imparesQ(w[:-1])) else False\n",
    "\n",
    "print(todos_imparesQ([1,3,5,7]))\n",
    "print(todos_imparesQ([1,3,5,6]))\n",
    "print(todos_imparesQ([])) "
   ]
  },
  {
   "cell_type": "markdown",
   "metadata": {},
   "source": [
    "7 Defina a função pertenceQ que recebe como argumentos uma lista de números\n",
    "inteiros w e um número inteiro n e devolve True se n ocorre em w e False em\n",
    "caso contrário.\n",
    "Ex: pertenceQ([1,2,3],1) = True\n",
    "Ex: pertenceQ([1,2,3],2) = True\n",
    "Ex: pertenceQ([1,2,3],3) = True\n",
    "Ex: pertenceQ([1,2,3],4) = False"
   ]
  },
  {
   "cell_type": "code",
   "execution_count": 2,
   "metadata": {},
   "outputs": [
    {
     "name": "stdout",
     "output_type": "stream",
     "text": [
      "False\n"
     ]
    }
   ],
   "source": [
    "pertence = lambda w, n: True if len(w) > 0 and (w[len(w) - 1] == n or pertence(w[:-1], n)) else False\n",
    "\n",
    "print(pertence([1,2,3],7))\n"
   ]
  },
  {
   "cell_type": "markdown",
   "metadata": {},
   "source": [
    "8 Defina a função junta que recebe como argumentos duas listas de números\n",
    "inteiros w1 e w2 e devolve a concatenação de w1 com w2 .\n",
    "Ex: junta([1,2,3],[4,5,6]) = [1, 2, 3, 4, 5, 6]\n",
    "Ex: junta([],[4,5,6]) = [4, 5, 6]\n",
    "Ex: junta([1,2,3],[]) = [1, 2, 3]"
   ]
  },
  {
   "cell_type": "code",
   "execution_count": 1,
   "metadata": {},
   "outputs": [
    {
     "name": "stdout",
     "output_type": "stream",
     "text": [
      "[1, 2, 3, 4, 5, 6]\n"
     ]
    }
   ],
   "source": [
    "from itertools import chain\n",
    "\n",
    "junta = lambda w1, w2: list(chain(*[w1,w2]))\n",
    "print(junta([1,2,3], [4,5,6]))"
   ]
  },
  {
   "cell_type": "markdown",
   "metadata": {},
   "source": [
    "9 Defina a função temPrimoQ que recebe como argumento uma lista de listas de\n",
    "números inteiros w e devolve True se alguma das sublistas w tem um número\n",
    "primo e False em caso contrário.\n",
    "Ex: temPrimoQ([[4,4,4,4],[5,4,6,7],[2,4,3]]) = True\n",
    "Ex: temPrimoQ([[4,4,4,4],[4,4,4],[],[4]]) = False"
   ]
  },
  {
   "cell_type": "code",
   "execution_count": 3,
   "metadata": {},
   "outputs": [
    {
     "name": "stdout",
     "output_type": "stream",
     "text": [
      "False\n"
     ]
    }
   ],
   "source": [
    "from math import sqrt; from itertools import count, islice\n",
    "\n",
    "isPrime = lambda n: n > 1 and all(n%i for i in islice(count(2), int(sqrt(n)-1)))\n",
    "hasPrime = lambda l, i: False if i == len(l) else True if  isPrime(l[i]) else hasPrime(l, i+1)\n",
    "verify = lambda l, i: False if i == len(l) else True if hasPrime(l[i],0) else verify(l,i+1)\n",
    "\n",
    "print(verify([[4,6,8],[4,12,6]],0))"
   ]
  },
  {
   "cell_type": "markdown",
   "metadata": {},
   "source": [
    "10 Defina a função inverteLista que recebe como argumento uma lista w e devolve a\n",
    "mesma lista mas invertida.\n",
    "Ex: inverteLista([1,2,3,4,5]) = [5, 4, 3, 2, 1]\n",
    "Ex: inverteLista([])"
   ]
  },
  {
   "cell_type": "code",
   "execution_count": 8,
   "metadata": {},
   "outputs": [
    {
     "name": "stdout",
     "output_type": "stream",
     "text": [
      "[4, 3, 2, 1]\n"
     ]
    }
   ],
   "source": [
    "invertLista = lambda w: [] if len(w) == 0 else [w[-1]] + invertLista(w[:-1])\n",
    "\n",
    "print(invertLista([1,2,3,4]))"
   ]
  }
 ],
 "metadata": {
  "kernelspec": {
   "display_name": "Python 3",
   "language": "python",
   "name": "python3"
  },
  "language_info": {
   "codemirror_mode": {
    "name": "ipython",
    "version": 3
   },
   "file_extension": ".py",
   "mimetype": "text/x-python",
   "name": "python",
   "nbconvert_exporter": "python",
   "pygments_lexer": "ipython3",
   "version": "3.6.7"
  }
 },
 "nbformat": 4,
 "nbformat_minor": 2
}
