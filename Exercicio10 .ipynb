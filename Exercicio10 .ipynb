{
 "cells": [
  {
   "cell_type": "markdown",
   "metadata": {},
   "source": [
    "## Lista de Exercícios 10\n",
    "Lucas Gabriel Teniz de Faria\n",
    "RA 81612246"
   ]
  },
  {
   "cell_type": "markdown",
   "metadata": {},
   "source": [
    "1 Faça um Programa que peça dois números e imprima o maior deles."
   ]
  },
  {
   "cell_type": "code",
   "execution_count": 1,
   "metadata": {},
   "outputs": [
    {
     "name": "stdout",
     "output_type": "stream",
     "text": [
      "Digite o primeiro número 19\n",
      "Digite o segundo número  11\n",
      "O maior número é  19\n"
     ]
    }
   ],
   "source": [
    "a  = int(input(\"Digite o primeiro número \"))\n",
    "b = int(input(\"Digite o segundo número  \"))\n",
    "\n",
    "if a > b:\n",
    "    print(\"O maior número é  {}\".format(a))\n",
    "else:\n",
    "    print(\"O maior número é  {}\".format(b))"
   ]
  },
  {
   "cell_type": "markdown",
   "metadata": {},
   "source": [
    "2 Faça um Programa que verifique se uma letra digitada é vogal ou consoante."
   ]
  },
  {
   "cell_type": "code",
   "execution_count": 7,
   "metadata": {},
   "outputs": [
    {
     "name": "stdout",
     "output_type": "stream",
     "text": [
      "Digite uma letrau\n",
      "Sim, é uma vogal\n"
     ]
    }
   ],
   "source": [
    "vogais = 'aeiou'\n",
    "letra = input(\"Digite uma letra\")\n",
    "if letra in vogais:\n",
    "    print (\"Sim, é uma vogal\")\n",
    "else:\n",
    "    print(\"Não, não é uma vogal\")"
   ]
  },
  {
   "cell_type": "markdown",
   "metadata": {},
   "source": [
    "3 Faça um programa para a leitura de duas notas parciais de um aluno. O programa\n",
    "deve calcular a média alcançada por aluno e apresentar:\n",
    "- A mensagem \"Aprovado\", se a média alcançada for maior ou igual a sete;\n",
    "- A mensagem \"Reprovado\", se a média for menor do que sete;\n",
    "- A mensagem \"Aprovado com Distinção\", se a média for igual a dez."
   ]
  },
  {
   "cell_type": "code",
   "execution_count": 10,
   "metadata": {},
   "outputs": [
    {
     "name": "stdout",
     "output_type": "stream",
     "text": [
      "Digite sua nota: 6\n",
      "Digite sua 2° nota: 9\n",
      "Aprovado\n"
     ]
    }
   ],
   "source": [
    "primeiraNota = int(input('Digite sua nota: '))\n",
    "segundaNota = int(input('Digite sua 2° nota: '))\n",
    "\n",
    "media = (primeiraNota + segundaNota) / 2\n",
    "\n",
    "if media >= 7 and media < 10:     \n",
    "    print ('Aprovado')\n",
    "elif media >= 10:\n",
    "    print ('Aprovado com Distinção')    \n",
    "else:\n",
    "    print ('Reprovado')"
   ]
  },
  {
   "cell_type": "markdown",
   "metadata": {},
   "source": [
    "4 Faça um Programa que leia três números e mostre-os em ordem decrescente."
   ]
  },
  {
   "cell_type": "code",
   "execution_count": 11,
   "metadata": {},
   "outputs": [
    {
     "name": "stdout",
     "output_type": "stream",
     "text": [
      "3 2 1\n",
      "3 2 1\n",
      "3 2 1\n",
      "3 2 1\n",
      "3 2 1\n",
      "3 2 1\n"
     ]
    }
   ],
   "source": [
    "##testa todas as opções possíveis de entradas\n",
    "lista = [(1,2,3), (1,3,2), (2,1,3), (2,3,1), (3,1,2), (3,2,1)]\n",
    "\n",
    "for n1,n2,n3 in lista:\n",
    "    if n1 > n2 and n1 > n3:\n",
    "        if n2 > n3:\n",
    "            print(f'{n1} {n2} {n3}')\n",
    "        else:\n",
    "            print(f'{n1} {n3} {n2}')\n",
    "    elif n2 > n1 and n2 > n3:\n",
    "        if n1 > n3:\n",
    "            print(f'{n2} {n1} {n3}')\n",
    "        else:\n",
    "            print(f'{n2} {n3} {n1}')\n",
    "    else:\n",
    "        if n1 > n2:\n",
    "            print(f'{n3} {n1} {n2}')\n",
    "        else:\n",
    "            print(f'{n3} {n2} {n1}')"
   ]
  },
  {
   "cell_type": "markdown",
   "metadata": {},
   "source": [
    "5 As Organizações Tabajara resolveram dar um aumento de salário aos seus\n",
    "colaboradores e lhe contrataram para desenvolver o programa que calculará os\n",
    "reajustes.\n",
    "Faça um programa que recebe o salário de um colaborador e o reajuste segundo o\n",
    "seguinte critério, baseado no salário atual:\n",
    "- salários até R$ 280,00 (incluindo) : aumento de 20%\n",
    "- salários entre R$ 280,00 e R$ 700,00 : aumento de 15%\n",
    "- salários entre R$ 700,00 e R$ 1500,00 : aumento de 10%\n",
    "- salários de R$ 1500,00 em diante : aumento de 5% Após o aumento ser realizado,\n",
    "informe na tela:\n",
    "- o salário antes do reajuste;\n",
    "- o percentual de aumento aplicado;\n",
    "- o valor do aumento;\n",
    "- o novo salário, após o aumento."
   ]
  },
  {
   "cell_type": "code",
   "execution_count": 1,
   "metadata": {},
   "outputs": [
    {
     "name": "stdout",
     "output_type": "stream",
     "text": [
      "Digite o salário\n",
      "1200\n",
      "\n",
      "Salario antes do reajuste: R$ 1200\n",
      "\n",
      "Você teve um aumento de 10% em seu salário, sou novo salário será: R$ 1320.0\n"
     ]
    }
   ],
   "source": [
    "salario = int(input('Digite o salário\\n'))\n",
    "\n",
    "if salario <= 280:\n",
    "    print('\\nSalario antes do reajuste: R$', salario)\n",
    "    reajuste_salario = salario * 0.20 + salario\n",
    "    print('\\nVocê teve um aumento de 20% em seu salário, sou novo salário será: R$', reajuste_salario)\n",
    "    \n",
    "elif salario > 280 and salario < 700:\n",
    "    print('\\nSalario antes do reajuste: R$', salario)\n",
    "    reajuste_salario = salario * 0.15 + salario\n",
    "    print('\\nVocê teve um aumento de 15% em seu salário, sou novo salário será: R$', reajuste_salario)\n",
    "\n",
    "elif salario > 700 and salario < 1500:\n",
    "    print('\\nSalario antes do reajuste: R$', salario)\n",
    "    reajuste_salario = salario * 0.10 + salario\n",
    "    print('\\nVocê teve um aumento de 10% em seu salário, sou novo salário será: R$', reajuste_salario)\n",
    "\n",
    "else:\n",
    "    print('\\nSalario antes do reajuste: R$', salario)\n",
    "    reajuste_salario = salario * 0.05 + salario\n",
    "    print('\\nVocê teve um aumento de 5% em seu salário, sou novo salário será: R$', reajuste_salario)"
   ]
  },
  {
   "cell_type": "markdown",
   "metadata": {},
   "source": [
    "6 Faça um Programa que leia um número e exiba o dia correspondente da semana. (1-Domingo, 2- Segunda, etc.), se digitar outro valor deve aparecer valor inválido"
   ]
  },
  {
   "cell_type": "code",
   "execution_count": 12,
   "metadata": {},
   "outputs": [
    {
     "name": "stdout",
     "output_type": "stream",
     "text": [
      "Digite o dia7\n",
      "Sábado\n"
     ]
    }
   ],
   "source": [
    "dias = {\n",
    "    1: \"Domingo\",\n",
    "    2: \"Segunda\",\n",
    "    3: \"Terça\",\n",
    "    4: \"Quarta\",\n",
    "    5: \"Quinta\",\n",
    "    6: \"Sexta\",\n",
    "    7: \"Sábado\"\n",
    "}\n",
    "dia = int (input (\"Digite o dia\"))\n",
    "if dia < 1 or dia > 7:\n",
    "    print(\"Fora do intervalo\")\n",
    "else:\n",
    "    print (dias[dia])"
   ]
  },
  {
   "cell_type": "markdown",
   "metadata": {},
   "source": [
    "7 Faça um programa que lê as duas notas parciais obtidas por um aluno numa disciplina ao longo de um semestre, e calcule a sua média. A atribuição de conceitos obedece à tabela abaixo: Média de Aproveitamento Conceito Entre 9.0 e 10.0 A Entre 7.5 e 9.0 B Entre 6.0 e 7.5 C Entre 4.0 e 6.0 D Entre 4.0 e zero E O algoritmo deve mostrar na tela as notas, a média, o conceito correspondente e a mensagem “APROVADO” se o conceito for A, B ou C ou “REPROVADO” se o conceito for D ou E."
   ]
  },
  {
   "cell_type": "code",
   "execution_count": 15,
   "metadata": {},
   "outputs": [
    {
     "name": "stdout",
     "output_type": "stream",
     "text": [
      "Digite a primeira nota 7.5\n",
      "Digite a segunda nota 6.6\n",
      "APROVADO = c\n"
     ]
    }
   ],
   "source": [
    "primeiraNota = float(input(\"Digite a primeira nota \"))\n",
    "segundaNota = float(input(\"Digite a segunda nota \"))\n",
    "\n",
    "media = (primeiraNota + segundaNota)/2\n",
    "\n",
    "if media >= 9 and media <= 10:\n",
    "    print(\"APROVADO = a\")\n",
    "elif media >= 7.5 and media < 9:\n",
    "    print(\"APROVADO = b\")\n",
    "elif media >= 6 and media < 7.5:\n",
    "    print(\"APROVADO = c\")\n",
    "elif media >= 4 and media < 6:\n",
    "    print(\"REPROVADO = d\")\n",
    "else:\n",
    "    print(\"REPROVADO = e\")"
   ]
  },
  {
   "cell_type": "markdown",
   "metadata": {},
   "source": [
    "8 Faça um Programa que peça os 3 lados de um triângulo. O programa deverá\n",
    "informar se os valores podem ser um triângulo. Indique, caso os lados formem um\n",
    "triângulo, se o mesmo é: equilátero, isósceles ou escaleno.\n",
    "Dicas:\n",
    "- Três lados formam um triângulo quando a soma de quaisquer dois lados for maior\n",
    "que o terceiro;\n",
    "- Triângulo Equilátero: três lados iguais;\n",
    "- Triângulo Isósceles: quaisquer dois lados iguais;\n",
    "- Triângulo Escaleno: três lados diferentes;"
   ]
  },
  {
   "cell_type": "code",
   "execution_count": 16,
   "metadata": {},
   "outputs": [
    {
     "name": "stdout",
     "output_type": "stream",
     "text": [
      "Digite lado 13\n",
      "Digite lado 24\n",
      "Digite lado 34\n",
      "É um Escaleno\n"
     ]
    }
   ],
   "source": [
    "a = float(input (\"Digite lado 1\"))\n",
    "b = float(input (\"Digite lado 2\"))\n",
    "c = float(input (\"Digite lado 3\"))\n",
    "if a + b > c and a + c > b and b + c > a:\n",
    "    if a == b and a == c:\n",
    "        print(\"É um Equilátero\")\n",
    "    elif a == b or a == c:\n",
    "        print(\"É um Isósceles\")\n",
    "    else:\n",
    "        print(\"É um Escaleno\")\n",
    "else:\n",
    "    print(\"Não podem formar um triângulo\")"
   ]
  },
  {
   "cell_type": "markdown",
   "metadata": {},
   "source": [
    " 9 Faça um programa que calcule as raízes de uma equação do segundo grau, na\n",
    "forma ax2 + bx + c. O programa deverá pedir os valores de a, b e c e fazer as\n",
    "consistências, informando ao usuário nas seguintes situações:\n",
    "- Se o usuário informar o valor de A igual a zero, a equação não é do segundo grau e\n",
    "o programa não deve fazer pedir os demais valores, sendo encerrado;\n",
    "- Se o delta calculado for negativo, a equação não possui raizes reais. Informe ao\n",
    "usuário e encerre o programa;\n",
    "- Se o delta calculado for igual a zero a equação possui apenas uma raiz real;\n",
    "informe-a ao usuário;\n",
    "- Se o delta for positivo, a equação possui duas raiz reais; informe-as ao usuário;"
   ]
  },
  {
   "cell_type": "code",
   "execution_count": 2,
   "metadata": {},
   "outputs": [
    {
     "name": "stdout",
     "output_type": "stream",
     "text": [
      "digite o valor de a:\n",
      "10\n",
      "digite o valor de b:\n",
      "5\n",
      "digite o valor de c:\n",
      "7\n",
      "Não possui raízes reais\n"
     ]
    }
   ],
   "source": [
    "a = int(input('digite o valor de a:\\n'))\n",
    "\n",
    "if a != 0:\n",
    "    b = int(input('digite o valor de b:\\n'))\n",
    "    c = int(input('digite o valor de c:\\n'))\n",
    "    \n",
    "    delta = (b**2) - 4*a*c\n",
    "    \n",
    "    if delta < 0:\n",
    "        print('Não possui raízes reais')\n",
    "    elif delta == 0:\n",
    "        print('Possui apenas uma raiz real')\n",
    "    else:\n",
    "        print('Esta equação possui 2 raízes reais.')    \n",
    "else:\n",
    "    print('Esta equação não é mais do segundo grau')"
   ]
  },
  {
   "cell_type": "markdown",
   "metadata": {},
   "source": [
    "10 Faça um Programa para um caixa eletrônico. O programa deverá perguntar ao\n",
    "usuário a valor do saque e depois informar quantas notas de cada valor serão\n",
    "fornecidas. As notas disponíveis serão as de 1, 5, 10, 50 e 100 reais. O valor mínimo é\n",
    "de 10 reais e o máximo de 600 reais. O programa não deve se preocupar com a\n",
    "quantidade de notas existentes na máquina.\n",
    "- Exemplo 1: Para sacar a quantia de 256 reais, o programa fornece duas notas de\n",
    "100, uma nota de 50, uma nota de 5 e uma nota de 1;\n",
    "- Exemplo 2: Para sacar a quantia de 399 reais, o programa fornece três notas de\n",
    "100, uma nota de 50, quatro notas de 10, uma nota de 5 e quatro notas de 1."
   ]
  },
  {
   "cell_type": "code",
   "execution_count": 17,
   "metadata": {},
   "outputs": [
    {
     "name": "stdout",
     "output_type": "stream",
     "text": [
      "Digite o valor para ser sacado250\n",
      "Nota 100 =  2 \n",
      "Nota 50 =  1 \n",
      "Nota 10 =  0 \n",
      "Nota 5 =  0 \n",
      "Nota 1 0\n"
     ]
    }
   ],
   "source": [
    "saque = int(input(\"Digite o valor para ser sacado\"))\n",
    "if saque >= 10 and saque <= 600:\n",
    "    n100 = saque // 100\n",
    "    r100 = saque % 100\n",
    "    n50 = r100 // 50\n",
    "    r50 = r100 % 50\n",
    "    n10 = r50 // 10\n",
    "    r10 = r50 % 10\n",
    "    n5 = r10 // 5\n",
    "    r5 = r10 % 5\n",
    "    n1 = r5 // 1\n",
    "    print(\"Nota 100 = \", n100 ,\"\\nNota 50 = \", n50, \"\\nNota 10 = \", n10, \"\\nNota 5 = \",  n5,\"\\nNota 1\", n1)\n",
    "else:\n",
    "    print(\"Não vai rolar\")"
   ]
  },
  {
   "cell_type": "markdown",
   "metadata": {},
   "source": [
    "11 Faça um programa que faça 5 perguntas para uma pessoa sobre um crime. As\n",
    "perguntas são:\n",
    "\"Telefonou para a vítima?\"\n",
    "\"Esteve no local do crime?\"\n",
    "\"Mora perto da vítima?\"\n",
    "\"Devia para a vítima?\"\n",
    "\"Já trabalhou com a vítima?\"\n",
    "O programa deve no final emitir uma classificação sobre a participação da pessoa no\n",
    "crime. Se a pessoa responder positivamente a 2 questões ela deve ser classificada\n",
    "como \"Suspeita\", entre 3 e 4 como \"Cúmplice\" e 5 como \"Assassino\". Caso contrário,\n",
    "ele será classificado como \"Inocente\"."
   ]
  },
  {
   "cell_type": "code",
   "execution_count": 1,
   "metadata": {},
   "outputs": [
    {
     "name": "stdout",
     "output_type": "stream",
     "text": [
      "Lembre-se 1 para sim e 0 para não\n",
      "Telefonou para a vítima? 1\n",
      "Esteve no local do crime? 0\n",
      "Mora perto da vítima? 1\n",
      "Devia para a vítima? 0\n",
      "Já trabalhou com a vítima? 0\n",
      "Suspeita\n"
     ]
    }
   ],
   "source": [
    "print(\"Lembre-se 1 para sim e 0 para não\")\n",
    "\n",
    "pergunta1  = int(input(\"Telefonou para a vítima? \"))\n",
    "pergunta2 = int(input(\"Esteve no local do crime? \"))\n",
    "pergunta3 = int(input(\"Mora perto da vítima? \"))\n",
    "pergunta4 = int(input(\"Devia para a vítima? \"))\n",
    "pergunta5 = int(input(\"Já trabalhou com a vítima? \"))\n",
    "\n",
    "resposta = pergunta1 + pergunta2 + pergunta3+ pergunta4 + pergunta5\n",
    "\n",
    "if resposta == 2:\n",
    "    print(\"Suspeita\")\n",
    "elif resposta == 3 or res == 4:\n",
    "    print(\"Cúmplice\")\n",
    "elif resposta == 5:\n",
    "    print(\"Assassino\")\n",
    "else:\n",
    "    print(\"Inocente\")"
   ]
  },
  {
   "cell_type": "markdown",
   "metadata": {},
   "source": [
    "12 Uma fruteira está vendendo frutas com a seguinte tabela de preços:\n",
    "Até 5 Kg Acima de 5 Kg\n",
    "Morango R$ 2,50 por Kg R$ 2,20 por Kg\n",
    "Maçã R$ 1,80 por Kg R$ 1,50 por Kg\n",
    "Se o cliente comprar mais de 8 Kg em frutas ou o valor total da compra ultrapassar\n",
    "R$ 25,00, receberá ainda um desconto de 10% sobre este total. Escreva um\n",
    "algoritmo para ler a quantidade (em Kg) de morangos e a quantidade (em Kg) de\n",
    "maças adquiridas e escreva o valor a ser pago pelo cliente."
   ]
  },
  {
   "cell_type": "code",
   "execution_count": 18,
   "metadata": {},
   "outputs": [
    {
     "name": "stdout",
     "output_type": "stream",
     "text": [
      "Quantos kg de maça2\n",
      "Quantos kg de morango3\n",
      "Você vai pagar: R$11.1\n"
     ]
    }
   ],
   "source": [
    "maca = float(input(\"Quantos kg de maça\"))\n",
    "morango = float (input(\"Quantos kg de morango\"))\n",
    "if maca <= 5:\n",
    "    total_maca = maca * 1.8\n",
    "else:\n",
    "    total_maca = maca * 1.5\n",
    "\n",
    "if morango <= 5:\n",
    "    total_morango = morango * 2.5\n",
    "else:\n",
    "    total_morango = morango * 2.2\n",
    "\n",
    "total_quilos = morango + maca\n",
    "preco_final = total_maca + total_morango\n",
    "\n",
    "if total_quilos > 8 or preco_final > 25:\n",
    "    preco_final = preco_final * 0.9\n",
    "    \n",
    "print (f\"Você vai pagar: R${preco_final}\")"
   ]
  },
  {
   "cell_type": "markdown",
   "metadata": {},
   "source": [
    "13 Faça um programa que peça uma nota, entre zero e dez. Mostre uma mensagem\n",
    "caso o valor seja inválido e continue pedindo até que o usuário informe um valor\n",
    "válido."
   ]
  },
  {
   "cell_type": "code",
   "execution_count": 1,
   "metadata": {},
   "outputs": [
    {
     "name": "stdout",
     "output_type": "stream",
     "text": [
      "Digite uma nota entre 0 e 10:  9\n",
      "Digite uma nota entre 0 e 10:  10\n",
      "Digite uma nota entre 0 e 10:  11\n",
      "Acabou\n"
     ]
    }
   ],
   "source": [
    "nota = 0\n",
    "while nota >= 0 and nota <= 10:\n",
    "    nota = int(input(\"Digite uma nota entre 0 e 10:  \"))\n",
    "\n",
    "else:\n",
    "    print(\"Acabou\")"
   ]
  },
  {
   "cell_type": "markdown",
   "metadata": {},
   "source": [
    "14 Faça um programa que leia e valide as seguintes informações: Nome: maior que 3 caracteres; Idade: entre 0 e 150; Salário: maior que zero; Sexo: 'f' ou 'm'; Estado Civil: 's', 'c', 'v', 'd';"
   ]
  },
  {
   "cell_type": "code",
   "execution_count": 1,
   "metadata": {},
   "outputs": [
    {
     "name": "stdout",
     "output_type": "stream",
     "text": [
      "Digite o nome lucas\n",
      "Digite a idade 22\n",
      "Digite o salário 1500\n",
      "Digite o sexo masculino\n",
      "Digite o estado civil solteiro\n"
     ]
    }
   ],
   "source": [
    "valid = True\n",
    "while valid:\n",
    "    nome = input(\"Digite o nome\")\n",
    "    idade = int(input(\"Digite a idade\"))\n",
    "    salario = float(input(\"Digite o salário\"))\n",
    "    sexo = input(\"Digite o sexo\")\n",
    "    est_civil = input(\"Digite o estado civil\")\n",
    "    \n",
    "    if len(nome) > 3 and idade >= 0 and idade <= 150 and salario > 0 and sexo in 'fm' and est_civil in 'scvd':\n",
    "        print(\"Esse passou\")\n",
    "    else:\n",
    "        valid = not valid\n"
   ]
  },
  {
   "cell_type": "markdown",
   "metadata": {},
   "source": [
    "15 Faça um programa que leia 5 números e informe o maior número."
   ]
  },
  {
   "cell_type": "code",
   "execution_count": 1,
   "metadata": {},
   "outputs": [
    {
     "name": "stdout",
     "output_type": "stream",
     "text": [
      "Digite 1 número: 5\n",
      "Digite 2 número: 4\n",
      "Digite 3 número: 3\n",
      "Digite 4 número: 2\n",
      "Digite 5 número: 1\n",
      "o maior numero é  5\n"
     ]
    }
   ],
   "source": [
    "n1 = int(input(\"Digite 1 número: \"))\n",
    "n2 = int(input(\"Digite 2 número: \"))\n",
    "n3 = int(input(\"Digite 3 número: \"))\n",
    "n4 = int(input(\"Digite 4 número: \"))\n",
    "n5 = int(input(\"Digite 5 número: \"))\n",
    "\n",
    "if n1 > n2 and n1 > n3 and n1 > n4 and n1 > n5:\n",
    "    print(\"o maior numero é\",(n1))\n",
    "elif n2 > n3 and n2 > n4 and n2 > n5 and n2 > n1:\n",
    "    print(\"o maior numero é\", (n1))\n",
    "elif n3 > n2 and n3 > n1 and n3 > n4 and n3 > n5:\n",
    "    print(\"o maior numero é\", (n1))\n",
    "elif n4 > n2 and n4 > n1 and n4 > n3 and n4 > n5:\n",
    "    print(\"o maior numero é\",(n1))\n",
    " "
   ]
  },
  {
   "cell_type": "markdown",
   "metadata": {},
   "source": [
    "16 Faça um programa que leia 5 números e informe a soma e a média dos números"
   ]
  },
  {
   "cell_type": "code",
   "execution_count": 1,
   "metadata": {},
   "outputs": [
    {
     "name": "stdout",
     "output_type": "stream",
     "text": [
      "Digite o valor 35\n",
      "Digite o valor 40\n",
      "Digite o valor 20\n",
      "Digite o valor 15\n",
      "Digite o valor 25\n",
      "135.0 27.0\n"
     ]
    }
   ],
   "source": [
    "soma = 0\n",
    "for i in range (5):\n",
    "    soma += float (input(\"Digite o valor\"))\n",
    "print (soma, soma/5)"
   ]
  },
  {
   "cell_type": "markdown",
   "metadata": {},
   "source": [
    "17  Faça um programa que imprima na tela apenas os números ímpares entre 1 e 50"
   ]
  },
  {
   "cell_type": "code",
   "execution_count": 3,
   "metadata": {},
   "outputs": [
    {
     "name": "stdout",
     "output_type": "stream",
     "text": [
      "Os numeros impares são 1 3 5 7 9 11 13 15 17 19 21 23 25 27 29 31 33 35 37 39 41 43 45 47 49 \n"
     ]
    }
   ],
   "source": [
    "n = 0\n",
    "impar = \"\"\n",
    "while n <= 49:\n",
    "    n += 1\n",
    "    if n%2 != 0:\n",
    "        impar += str(n) + \" \"\n",
    "        \n",
    "else:\n",
    "    print(\"Os numeros impares são {}\".format(impar))"
   ]
  },
  {
   "cell_type": "markdown",
   "metadata": {},
   "source": [
    "18 A série de Fibonacci é formada pela seqüência 1,1,2,3,5,8,13,21,34,55,... Faça um\n",
    "programa capaz de gerar a série até o n−ésimo termo."
   ]
  },
  {
   "cell_type": "code",
   "execution_count": 3,
   "metadata": {},
   "outputs": [
    {
     "name": "stdout",
     "output_type": "stream",
     "text": [
      "Digite o n-ésimo numero\n",
      "5\n",
      "0\n",
      "1\n",
      "1\n",
      "2\n",
      "3\n"
     ]
    }
   ],
   "source": [
    "def fib(n):\n",
    "    a = 0\n",
    "    b = 1;\n",
    "    print(a)\n",
    "    while (b < n):\n",
    "        c = a\n",
    "        a = b\n",
    "        b = a + c\n",
    "        print(a)\n",
    "fib(int(input('Digite o n-ésimo numero\\n')))"
   ]
  },
  {
   "cell_type": "markdown",
   "metadata": {},
   "source": [
    "19 Faça um programa que calcule o fatorial de um número inteiro fornecido pelo\n",
    "usuário. Ex.: 5!=5.4.3.2.1=120"
   ]
  },
  {
   "cell_type": "code",
   "execution_count": 8,
   "metadata": {},
   "outputs": [
    {
     "name": "stdout",
     "output_type": "stream",
     "text": [
      "120\n"
     ]
    }
   ],
   "source": [
    "n = 5\n",
    "fatorial = 1\n",
    "i = 1\n",
    "while i <= n:\n",
    "    fatorial *= i\n",
    "    i += 1\n",
    "print(fatorial)"
   ]
  },
  {
   "cell_type": "markdown",
   "metadata": {},
   "source": [
    "20  O Sr. Manoel Joaquim possui uma grande loja de artigos de RS 1,99, com cerca de 10 caixas. Para agilizar o cálculo de quanto cada cliente deve pagar ele desenvolveu um tabela que contém o número de itens que o cliente comprou e ao lado o valor da conta. Desta forma a atendente do caixa precisa apenas contar quantos itens o cliente está levando e olhar na tabela de preços. Você foi contratado para desenvolver o programa que monta esta tabela de preços, que conterá os preços de 1 até 50 produtos, conforme o exemplo abaixo:\n",
    "Lojas Quase Dois - Tabela de preços\n",
    "</br>1 - RS 1.99\n",
    "</br>2 - RS 3.98\n",
    "</br>...</br>\n",
    "50 - RS 99.50"
   ]
  },
  {
   "cell_type": "code",
   "execution_count": 9,
   "metadata": {},
   "outputs": [
    {
     "name": "stdout",
     "output_type": "stream",
     "text": [
      "1 - R$ 1.99\n",
      "2 - R$ 3.98\n",
      "3 - R$ 5.97\n",
      "4 - R$ 7.96\n",
      "5 - R$ 9.95\n",
      "6 - R$ 11.94\n",
      "7 - R$ 13.93\n",
      "8 - R$ 15.92\n",
      "9 - R$ 17.91\n",
      "10 - R$ 19.9\n",
      "11 - R$ 21.89\n",
      "12 - R$ 23.88\n",
      "13 - R$ 25.87\n",
      "14 - R$ 27.86\n",
      "15 - R$ 29.85\n",
      "16 - R$ 31.84\n",
      "17 - R$ 33.83\n",
      "18 - R$ 35.82\n",
      "19 - R$ 37.81\n",
      "20 - R$ 39.8\n",
      "21 - R$ 41.79\n",
      "22 - R$ 43.78\n",
      "23 - R$ 45.77\n",
      "24 - R$ 47.76\n",
      "25 - R$ 49.75\n",
      "26 - R$ 51.74\n",
      "27 - R$ 53.73\n",
      "28 - R$ 55.72\n",
      "29 - R$ 57.71\n",
      "30 - R$ 59.7\n",
      "31 - R$ 61.69\n",
      "32 - R$ 63.68\n",
      "33 - R$ 65.67\n",
      "34 - R$ 67.66\n",
      "35 - R$ 69.65\n",
      "36 - R$ 71.64\n",
      "37 - R$ 73.63\n",
      "38 - R$ 75.62\n",
      "39 - R$ 77.61\n",
      "40 - R$ 79.6\n",
      "41 - R$ 81.59\n",
      "42 - R$ 83.58\n",
      "43 - R$ 85.57\n",
      "44 - R$ 87.56\n",
      "45 - R$ 89.55\n",
      "46 - R$ 91.54\n",
      "47 - R$ 93.53\n",
      "48 - R$ 95.52\n",
      "49 - R$ 97.51\n",
      "50 - R$ 99.5\n"
     ]
    }
   ],
   "source": [
    "for i in range(1,51):\n",
    "    print (i, \"- R$\", i*1.99)"
   ]
  },
  {
   "cell_type": "markdown",
   "metadata": {},
   "source": [
    "21 O Sr. Manoel Joaquim expandiu seus negócios para além dos negócios de 1,99 e agora possui uma loja de conveniências. Faça um programa que implemente uma caixa registradora rudimentar. O programa deverá receber um número desconhecido de valores referentes aos preços das mercadorias. Um valor zero deve ser informado pelo operador para indicar o fnal da compra. O programa deve então mostrar o total da compra e perguntar o valor em dinheiro que o cliente forneceu, para então calcular e mostrar o valor do troco. Após esta operação, o programa deverá voltar ao ponto inicial, para registrar a próxima compra. A saída deve ser conforme o exemplo abaixo:\n",
    "</br>Lojas Tabajara\n",
    "</br>Produto 1: RS 2.20\n",
    "</br>Produto 2: RS 5.80\n",
    "</br>Produto 3: RS 0\n",
    "</br>Total: RS 9.00\n",
    "</br>Dinheiro: RS 20.00\n",
    "</br>Troco: RS 11.00\n",
    "</br>..."
   ]
  },
  {
   "cell_type": "code",
   "execution_count": 21,
   "metadata": {},
   "outputs": [
    {
     "name": "stdout",
     "output_type": "stream",
     "text": [
      "Quantos intens o cliente tem? 2\n",
      "Digite o preço do produto 1.20\n",
      "Digite o preço do produto 2.20\n",
      "Digite o preço do produto 3.40\n",
      "0 - R$ 1.2\n",
      "1 - R$ 2.2\n",
      "2 - R$ 3.4\n",
      "\n"
     ]
    }
   ],
   "source": [
    "itens = int(input(\"Quantos intens o cliente tem? \"))\n",
    "i = 0\n",
    "mostrar = \"\"\n",
    "if itens <= 50:\n",
    "    while i <= itens:\n",
    "        p = float(input(\"Digite o preço do produto \"))\n",
    "        mostrar += str(i) + \" - R$ \" + str(p) + \"\\n\"\n",
    "        i += 1\n",
    "    else:\n",
    "        print(mostrar)\n",
    "else:\n",
    "    print(\"Quantida acima de 50\")"
   ]
  },
  {
   "cell_type": "markdown",
   "metadata": {},
   "source": [
    "22 O Sr. Manoel Joaquim expandiu seus negócios para além dos negócios de 1,99 e agora possui uma loja de conveniências. Faça um programa que implemente uma caixa registradora rudimentar. O programa deverá receber um número desconhecido de valores referentes aos preços das mercadorias. Um valor zero deve ser informado pelo operador para indicar o fnal da compra. O programa deve então mostrar o total da compra e perguntar o valor em dinheiro que o cliente forneceu, para então calcular e mostrar o valor do troco. Após esta operação, o programa deverá voltar ao ponto inicial, para registrar a próxima compra. A saída deve ser conforme o exemplo abaixo:\n",
    "</br>Lojas Tabajara\n",
    "</br>Produto 1: RS 2.20\n",
    "</br>Produto 2: RS 5.80\n",
    "</br>Produto 3: RS 0\n",
    "</br>Total: RS 9.00\n",
    "</br>Dinheiro: RS 20.00\n",
    "</br>Troco: RS 11.00\n",
    "</br>..."
   ]
  },
  {
   "cell_type": "code",
   "execution_count": 11,
   "metadata": {},
   "outputs": [
    {
     "name": "stdout",
     "output_type": "stream",
     "text": [
      "Digite o preço do Produto 1: R$4.00\n",
      "Digite o preço do Produto 2: R$3.99\n",
      "Digite o preço do Produto 3: R$1.99\n",
      "Digite o preço do Produto 4: R$4.99\n",
      "Digite o preço do Produto 5: R$0\n",
      "Teste\n",
      "O total da compra foi: R$ 14.97\n",
      "Digite a quantia de dinheiro que irá usar para pagar. R$15\n",
      "Troco da compra será: R$ 0.02999999999999936\n"
     ]
    }
   ],
   "source": [
    "prod = []\n",
    "num = 1\n",
    "while True:\n",
    "    preco = float(input(f\"Digite o preço do Produto {num}: R$\"))\n",
    "    if preco > 0:\n",
    "        num += 1\n",
    "        prod.append(preco)\n",
    "    else:\n",
    "        print(\"Teste\")\n",
    "        break\n",
    "#print(prod)\n",
    "print(\"O total da compra foi: R$\",sum(prod))\n",
    "pag = float(input(\"Digite a quantia de dinheiro que irá usar para pagar. R$\"))\n",
    "print(\"Troco da compra será: R$\", pag-sum(prod))"
   ]
  },
  {
   "cell_type": "markdown",
   "metadata": {},
   "source": [
    "23 Foi feita uma estatística em cinco cidades brasileiras para coletar dados sobre\n",
    "acidentes de trânsito. Foram obtidos os seguintes dados:\n",
    "- Código da cidade;\n",
    "- Número de veículos de passeio (em 1999);\n",
    "- Número de acidentes de trânsito com vítimas (em 1999). Deseja-se saber:\n",
    "- Qual o maior e menor índice de acidentes de transito e a que cidade pertence;\n",
    "- Qual a média de veículos nas cinco cidades juntas;\n",
    "- Qual a média de acidentes de trânsito nas cidades com menos de 2.000 veículos de\n",
    "passeio."
   ]
  },
  {
   "cell_type": "code",
   "execution_count": 23,
   "metadata": {},
   "outputs": [
    {
     "name": "stdout",
     "output_type": "stream",
     "text": [
      "Bem-vindo a Loja Tabajara - **lembre-se: para sair digite 0 **\n",
      "Digite o preço do produto 1.20\n",
      "Digite o preço do produto 2.20\n",
      "Digite o preço do produto 0\n",
      "Digite o dinheiro fornecido 5\n",
      "Produto: 1: R$ 1.2\n",
      "Produto: 2: R$ 2.2\n",
      "Produto: 3: R$ 0.0\n",
      "\n",
      " Dinheiro: 5.0 R$\n",
      "Troco: 1.5999999999999996 R$\n"
     ]
    }
   ],
   "source": [
    "print(\"Bem-vindo a Loja Tabajara - **lembre-se: para sair digite 0 **\")\n",
    "p = 1\n",
    "i = 1\n",
    "mostrar = \"\"\n",
    "total = 0\n",
    "while p != 0:\n",
    "    p = float(input(\"Digite o preço do produto \"))\n",
    "    mostrar += \"Produto: \" + str(i) + \": R$ \" + str(p) + \"\\n\"\n",
    "    total = total + p \n",
    "    i += 1\n",
    "else:\n",
    "    d = float(input(\"Digite o dinheiro fornecido \"))\n",
    "    troco = d - total\n",
    "    print(\"{}\\n Dinheiro: {} R$\\nTroco: {} R$\".format(mostrar,d,troco))"
   ]
  },
  {
   "cell_type": "markdown",
   "metadata": {},
   "source": [
    "24 Foi feita uma estatística em cinco cidades brasileiras para coletar dados sobre\n",
    "acidentes de trânsito. Foram obtidos os seguintes dados:\n",
    "- Código da cidade;\n",
    "- Número de veículos de passeio (em 1999);\n",
    "- Número de acidentes de trânsito com vítimas (em 1999). Deseja-se saber:\n",
    "- Qual o maior e menor índice de acidentes de transito e a que cidade pertence;\n",
    "- Qual a média de veículos nas cinco cidades juntas;\n",
    "- Qual a média de acidentes de trânsito nas cidades com menos de 2.000 veículos de\n",
    "passeio."
   ]
  },
  {
   "cell_type": "code",
   "execution_count": null,
   "metadata": {},
   "outputs": [],
   "source": [
    "i = 0\n",
    "acid_Maior = 0\n",
    "acid_Menor = 2000\n",
    "total = 0\n",
    "total_Menor= 0\n",
    "div = 0\n",
    "while i < 5:\n",
    "    cod = int(input(\"Digite o código da cidade \"))\n",
    "    num_v = int(input(\"Digite o Número de veículos de passeio \"))\n",
    "    num_a = int(input(\"Digite o Número de acidentes de trânsito com vítimas \"))\n",
    "    print(\"\\n\")\n",
    "    \n",
    "    if num_a > acid_Maior:\n",
    "        acid_Maior = num_a\n",
    "        m = cod\n",
    "    if num_a < acid_Menor:\n",
    "        acid_Menor = num_a\n",
    "        m2= cod\n",
    "    \n",
    "    if num_v < 2000:\n",
    "        total_Menor += num_v\n",
    "        div += 1\n",
    "    else:\n",
    "        total += num_v\n",
    "    \n",
    "    i += 1\n",
    "else:\n",
    "    media_Menor = total_Menor / div\n",
    "    media = total / 5\n",
    "    print(\"Código: {}° Maior: {}\\nCódigo: {}° Menor: {}\\nMedia entre as cidades: {}\\nMedia acidentes acima de 2.000: {}\".format(\n",
    "        m,acid_Maior,m2,acid_Menor,media,media_Menor))"
   ]
  },
  {
   "cell_type": "markdown",
   "metadata": {},
   "source": [
    "25 Faça um programa que mostre os n termos da Série a seguir:\n",
    "S = 1/1 + 2/3 + 3/5 + 4/7 + 5/9 + ... + n/m.\n",
    "Imprima no final a soma da série.\n"
   ]
  },
  {
   "cell_type": "code",
   "execution_count": 12,
   "metadata": {},
   "outputs": [
    {
     "name": "stdout",
     "output_type": "stream",
     "text": [
      "6.066627765079777\n"
     ]
    }
   ],
   "source": [
    "n=10\n",
    "num = 1\n",
    "den = 1\n",
    "soma = 0\n",
    "while num <= n:\n",
    "    soma += num/den\n",
    "    num += 1\n",
    "    den += 2\n",
    "print(soma)"
   ]
  },
  {
   "cell_type": "code",
   "execution_count": null,
   "metadata": {},
   "outputs": [],
   "source": []
  }
 ],
 "metadata": {
  "kernelspec": {
   "display_name": "Python 3",
   "language": "python",
   "name": "python3"
  },
  "language_info": {
   "codemirror_mode": {
    "name": "ipython",
    "version": 3
   },
   "file_extension": ".py",
   "mimetype": "text/x-python",
   "name": "python",
   "nbconvert_exporter": "python",
   "pygments_lexer": "ipython3",
   "version": "3.6.7"
  }
 },
 "nbformat": 4,
 "nbformat_minor": 2
}
