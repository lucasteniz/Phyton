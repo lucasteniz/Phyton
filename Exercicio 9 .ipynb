{
 "cells": [
  {
   "cell_type": "markdown",
   "metadata": {},
   "source": [
    "## Lista de Exercícios 9\n",
    "Lucas Gabriel Teniz de Faria\n",
    "RA 81612246"
   ]
  },
  {
   "cell_type": "markdown",
   "metadata": {},
   "source": [
    "1 Faça um Programa que peça o raio de um círculo, calcule e mostre sua área."
   ]
  },
  {
   "cell_type": "code",
   "execution_count": 1,
   "metadata": {},
   "outputs": [
    {
     "name": "stdout",
     "output_type": "stream",
     "text": [
      "Digite o raio do círculo: 3\n",
      "A área do círculo é 28.27\n"
     ]
    }
   ],
   "source": [
    "import math\n",
    "\n",
    "raio = float(input('Digite o raio do círculo: '))\n",
    "area = math.pi * raio**2\n",
    "print('A área do círculo é {0:.2f}' .format(area))"
   ]
  },
  {
   "cell_type": "markdown",
   "metadata": {},
   "source": [
    "2 Faça um Programa que calcule a área de um quadrado, em seguida mostre o dobro\n",
    "desta área para o usuário."
   ]
  },
  {
   "cell_type": "code",
   "execution_count": 2,
   "metadata": {},
   "outputs": [
    {
     "name": "stdout",
     "output_type": "stream",
     "text": [
      "Digite o valor do lado do quadrado 4\n",
      "32\n"
     ]
    }
   ],
   "source": [
    "a = input(\"Digite o valor do lado do quadrado \")\n",
    "b = (int(a) * int(a)) * 2\n",
    "print(b)"
   ]
  },
  {
   "cell_type": "markdown",
   "metadata": {},
   "source": [
    "3 Faça um Programa que pergunte quanto você ganha por hora e o número de horas\n",
    "trabalhadas no mês. Calcule e mostre o total do seu salário no referido mês."
   ]
  },
  {
   "cell_type": "code",
   "execution_count": null,
   "metadata": {},
   "outputs": [],
   "source": [
    "a = input(\"Digite o valor da sua hora \")\n",
    "b = input(\"Digite a quantidade de horas trabalhadas no mês \")\n",
    "c = float(a) * int(b)\n",
    "print(\"Voce ganhou neste mes R$\", c, \"reais\")"
   ]
  },
  {
   "cell_type": "markdown",
   "metadata": {},
   "source": [
    "4 Faça um Programa que peça a temperatura em graus Farenheit, transforme e\n",
    "mostre a temperatura em graus Celsius. C = (5 * (F-32) / 9)."
   ]
  },
  {
   "cell_type": "code",
   "execution_count": 1,
   "metadata": {},
   "outputs": [
    {
     "name": "stdout",
     "output_type": "stream",
     "text": [
      "A temperatura é de 30.56 graus Celsius.\n"
     ]
    }
   ],
   "source": [
    "f = 87\n",
    "c = (5 * (f - 32)/9)\n",
    "print(f'A temperatura é de {c:.2f} graus Celsius.')"
   ]
  },
  {
   "cell_type": "markdown",
   "metadata": {},
   "source": [
    "5 Faça um Programa que peça a temperatura em graus Celsius, transforme e mostre\n",
    "em graus Farenheit."
   ]
  },
  {
   "cell_type": "code",
   "execution_count": 2,
   "metadata": {},
   "outputs": [
    {
     "name": "stdout",
     "output_type": "stream",
     "text": [
      "graus Farenheit:      87.01\n"
     ]
    }
   ],
   "source": [
    "c = 30.56\n",
    "f = ((1.8 * c) + 32)\n",
    "print(\"graus Farenheit é de {0:10.2f}\".format(f))"
   ]
  },
  {
   "cell_type": "markdown",
   "metadata": {},
   "source": [
    "6 Faça um Programa que peça 2 números inteiros e um número real. Calcule e\n",
    "mostre:\n",
    "- o produto do dobro do primeiro com metade do segundo .\n",
    "- a soma do triplo do primeiro com o terceiro.\n",
    "- o terceiro elevado ao cubo."
   ]
  },
  {
   "cell_type": "code",
   "execution_count": 3,
   "metadata": {},
   "outputs": [
    {
     "name": "stdout",
     "output_type": "stream",
     "text": [
      "Digite o primeiro numero inteiro 4\n",
      "Digite o segundo numero inteiro 2\n",
      "Digite o numero real 1\n",
      "O dobro do primeiro com metade do segundo é: 9.0\n",
      "O triplo do primeiro com o terceiro é: 13.0\n",
      "o terceiro elevado ao cubo é: 1.0\n"
     ]
    }
   ],
   "source": [
    "a = input(\"Digite o primeiro numero inteiro \")\n",
    "b = input(\"Digite o segundo numero inteiro \")\n",
    "c = input(\"Digite o numero real \")\n",
    "d = (int(a) * 2) + (int(b) / 2)\n",
    "e = (int(a) * 3) + float(c)\n",
    "f = float(c) ** 3\n",
    "\n",
    "print(\"O dobro do primeiro com metade do segundo é:\", d)\n",
    "print(\"O triplo do primeiro com o terceiro é:\", e)\n",
    "print(\"o terceiro elevado ao cubo é:\", f)"
   ]
  },
  {
   "cell_type": "markdown",
   "metadata": {},
   "source": [
    "7 João Papo-de-Pescador, homem de bem, comprou um microcomputador para\n",
    "controlar o rendimento diário de seu trabalho. Toda vez que ele traz um peso de\n",
    "peixes maior que o estabelecido pelo regulamento de pesca do estado de São Paulo\n",
    "(50 quilos) deve pagar uma multa de R$ 4,00 por quilo excedente. João precisa que\n",
    "você faça um programa que leia a variável peso (peso de peixes) e verifique se há\n",
    "excesso. Se houver, gravar na variável excesso e na variável multa o valor da multa\n",
    "que João deverá pagar. Caso contrário mostrar tais variáveis com o conteúdo ZERO.\n"
   ]
  },
  {
   "cell_type": "code",
   "execution_count": 4,
   "metadata": {},
   "outputs": [
    {
     "name": "stdout",
     "output_type": "stream",
     "text": [
      "Digite o peso dos peixes: 10\n",
      "Voce não excedeu o limite de peso, portanto o excesso é de: 0 e a multa é de: 0\n"
     ]
    }
   ],
   "source": [
    "peso = input(\"Digite o peso dos peixes: \")\n",
    "limite = 50\n",
    "if float(peso) > int(limite): \n",
    "    excesso = float(peso) - limite\n",
    "    multa = float(excesso) * 4\n",
    "    print(\"Você excedeu o peso em:\", excesso)\n",
    "    print(\"A multa é de:\", multa)\n",
    "else:\n",
    "    excesso = 0\n",
    "    multa = 0\n",
    "    print(\"Voce não excedeu o limite de peso, portanto o excesso é de:\", excesso, \"e a multa é de:\", multa)"
   ]
  },
  {
   "cell_type": "markdown",
   "metadata": {},
   "source": [
    "8 Faça um Programa que pergunte quanto você ganha por hora e o número de horas\n",
    "trabalhadas no mês. Calcule e mostre o total do seu salário no referido mês,\n",
    "sabendo-se que são descontados 11% para o Imposto de Renda, 8% para o INSS e 5%\n",
    "para o sindicato, faça um programa que nos dê:\n",
    "- salário bruto.\n",
    "- quanto pagou ao INSS.\n",
    "- quanto pagou ao sindicato.\n",
    "- o salário líquido.\n",
    "- calcule os descontos e o salário líquido"
   ]
  },
  {
   "cell_type": "code",
   "execution_count": 5,
   "metadata": {},
   "outputs": [
    {
     "name": "stdout",
     "output_type": "stream",
     "text": [
      "Digite o quanto você ganha por hora 15\n",
      "Digite a quantidade de horas trabalhadas no mês100\n",
      "Os detalhes do seu salario neste mês são:  \n",
      "Salario Bruto:  1500.0 \n",
      "INSS:  120.0 \n",
      "Sindicato:  75.0 \n",
      "IR:  165.0 \n",
      "Total de Descontos:  360.0 \n",
      "Salario liquido:  1140.0\n"
     ]
    }
   ],
   "source": [
    "hora = input(\"Digite o quanto você ganha por hora \")\n",
    "mês = input(\"Digite a quantidade de horas trabalhadas no mês\")\n",
    "bruto = float(hora) * float(mês)\n",
    "inss = (float(bruto) / 100) * 8\n",
    "sindicato = (float(bruto) / 100) * 5\n",
    "imposto_de_renda = (float(bruto) / 100) * 11\n",
    "descontos = inss + sindicato + imposto_de_renda\n",
    "liquido = bruto - descontos\n",
    "\n",
    "print(\"Os detalhes do seu salario neste mês são: \",  \n",
    "      \"\\nSalario Bruto: \", bruto,\n",
    "        \"\\nINSS: \", inss,\n",
    "         \"\\nSindicato: \", sindicato,\n",
    "         \"\\nIR: \", imposto_de_renda,\n",
    "         \"\\nTotal de Descontos: \", descontos,\n",
    "         \"\\nSalario liquido: \", liquido)"
   ]
  },
  {
   "cell_type": "markdown",
   "metadata": {},
   "source": [
    "9 Faça um programa que leia 2 strings e informe o conteúdo delas seguido do seu\n",
    "comprimento. Informe também se as duas strings possuem o mesmo comprimento e\n",
    "são iguais ou diferentes no conteúdo."
   ]
  },
  {
   "cell_type": "code",
   "execution_count": 6,
   "metadata": {},
   "outputs": [
    {
     "name": "stdout",
     "output_type": "stream",
     "text": [
      "Digite a primeira string lucas\n",
      "Digite a segunda string gabriel\n",
      "\n",
      "Tamanho string um:  5\n",
      "\n",
      "Tamanho string dois:  7\n",
      "\n",
      "Conteudo string um:  lucas\n",
      "\n",
      "Conteudo string um:  gabriel\n",
      "\n",
      "As strings não são iguais em conteudo e tamanho\n"
     ]
    }
   ],
   "source": [
    "string_um = input(\"Digite a primeira string \")\n",
    "string_dois = input(\"Digite a segunda string \")\n",
    "if (len(string_um) == len(string_dois)) and (string_um == string_dois):\n",
    "    print(\"\\nTamanho string um: \", len(string_um))\n",
    "    print(\"\\nTamanho string dois: \", len(string_dois))\n",
    "    print(\"\\nConteudo string um: \", string_um)\n",
    "    print(\"\\nConteudo string um: \", string_dois)\n",
    "    print(\"\\nAs strings \", string_um, \"e\", string_dois, \"são iguais em tamanho e conteúdo\")\n",
    "elif (len(string_um) == len(string_dois)) and (string_um != string_dois):\n",
    "    print(\"\\nTamanho string um: \", len(string_um))\n",
    "    print(\"\\nTamanho string dois: \", len(string_dois))\n",
    "    print(\"\\nConteudo string um: \", string_um)\n",
    "    print(\"\\nConteudo string um: \", string_dois)\n",
    "    print(\"\\nO tamanho das strings são iguais, porem o conteúdo é diferente.\")\n",
    "else:\n",
    "    print(\"\\nTamanho string um: \", len(string_um))\n",
    "    print(\"\\nTamanho string dois: \", len(string_dois))\n",
    "    print(\"\\nConteudo string um: \", string_um)\n",
    "    print(\"\\nConteudo string um: \", string_dois)\n",
    "    print(\"\\nAs strings não são iguais em conteudo e tamanho\")"
   ]
  },
  {
   "cell_type": "markdown",
   "metadata": {},
   "source": [
    "10 Faça um programa que permita ao usuário digitar o seu nome e em seguida\n",
    "mostre o nome do usuário de trás para frente utilizando somente letras maiúsculas.\n",
    "Dica: lembre−se que ao informar o nome o usuário pode digitar letras maiúsculas ou\n",
    "minúsculas. Observação: não use loops."
   ]
  },
  {
   "cell_type": "code",
   "execution_count": 7,
   "metadata": {},
   "outputs": [
    {
     "name": "stdout",
     "output_type": "stream",
     "text": [
      "Digite o seu nome: lucas gabriel teniz de faria\n",
      "AIRAF ED ZINET LEIRBAG SACUL\n"
     ]
    }
   ],
   "source": [
    "nome = input('Digite o seu nome: ')\n",
    "print(nome[::-1].upper())"
   ]
  },
  {
   "cell_type": "markdown",
   "metadata": {},
   "source": [
    "11 Faça um programa que solicite a data de nascimento (dd/mm/aaaa) do usuário e imprima a data com o nome do mês por extenso."
   ]
  },
  {
   "cell_type": "code",
   "execution_count": 8,
   "metadata": {},
   "outputs": [
    {
     "name": "stdout",
     "output_type": "stream",
     "text": [
      "Digite o dia do seu nascimento 19\n",
      "Digite o mês do seu nascimento 11\n",
      "Digite o ano do seu nascimento 1996\n",
      "Você nasceu em 19 de Novembro de 1996\n"
     ]
    }
   ],
   "source": [
    "dia = input(\"Digite o dia do seu nascimento \")\n",
    "mes = input(\"Digite o mês do seu nascimento \")\n",
    "ano = input(\"Digite o ano do seu nascimento \")\n",
    "lista = ['Meses', 'Janeiro', 'Fevereiro', 'Março', 'Abril', 'Maio', 'Junho', 'Julho', 'Agosto', 'Setembro', 'Outubro', \n",
    "         'Novembro', 'Dezembro']\n",
    "print(\"Você nasceu em\", dia, \"de\", lista[int(mes)], \"de\", ano)\n"
   ]
  },
  {
   "cell_type": "markdown",
   "metadata": {},
   "source": [
    "12 Leet é uma forma de se escrever o alfabeto latino usando outros símbolos em\n",
    "lugar das letras, como números por exemplo. A própria palavra leet admite muitas\n",
    "variações, como l33t ou 1337. O uso do leet reflete uma subcultura relacionada ao\n",
    "mundo dos jogos de computador e internet, sendo muito usada para confundir os\n",
    "iniciantes e afirmar-se como parte de um grupo. Pesquise sobre as principais formas\n",
    "de traduzir as letras. Depois, faça um programa que peça uma texto e transforme-o\n",
    "para a grafia leet speak."
   ]
  },
  {
   "cell_type": "code",
   "execution_count": 9,
   "metadata": {},
   "outputs": [
    {
     "name": "stdout",
     "output_type": "stream",
     "text": [
      "Seu textol33t\n",
      "l33t\n"
     ]
    }
   ],
   "source": [
    "import string\n",
    "\n",
    "texto = str(input('Seu texto'))\n",
    "\n",
    "print(texto.translate(bytes.maketrans(b'abcfe',b'12345')))"
   ]
  },
  {
   "cell_type": "markdown",
   "metadata": {},
   "source": [
    "13 Crie um programa que recebe uma lista de números e\n",
    "- retorne o maior elemento\n",
    "- retorne a soma dos elementos\n",
    "- retorne o número de ocorrências do primeiro elemento da lista\n",
    "- retorne a média dos elementos\n",
    "- retorne o valor mais próximo da média dos elementos\n",
    "- retorne a soma dos elementos com valor negativo\n",
    "- retorne a quantidade de vizinhos iguais"
   ]
  },
  {
   "cell_type": "code",
   "execution_count": 10,
   "metadata": {},
   "outputs": [
    {
     "name": "stdout",
     "output_type": "stream",
     "text": [
      "Maior = 10\n",
      "Soma = 44\n",
      "Ocorrências de 3 = 2\n",
      "Média = 4.4\n",
      "Valor mais próximo da média = 4\n"
     ]
    }
   ],
   "source": [
    "import math\n",
    "lista = [3,2,3,4,5,1,7,4,5,10]\n",
    "print(f'Maior = {max(lista)}')\n",
    "print(f'Soma = {sum(lista)}')\n",
    "print(f'Ocorrências de {lista[0]} = {lista.count(lista[0])}')\n",
    "media = sum(lista)/len(lista)\n",
    "print(f'Média = {media}')\n",
    "proximo = [math.isclose(l,media,rel_tol=1e-1, abs_tol=0.0) for l in lista]\n",
    "print(f'Valor mais próximo da média = {lista[proximo.index(True)]}')"
   ]
  },
  {
   "cell_type": "markdown",
   "metadata": {},
   "source": [
    "14 Faça um programa que receba duas listas e retorne True se são iguais ou False caso contrario. Duas listas são iguais se possuem os mesmos valores e na mesma ordem."
   ]
  },
  {
   "cell_type": "code",
   "execution_count": 11,
   "metadata": {},
   "outputs": [
    {
     "name": "stdout",
     "output_type": "stream",
     "text": [
      "123\n",
      "134\n",
      "Comparação da Lista 1 com a Lista 2 é = False\n",
      "Comparação da Lista 3 com a Lista 4 é = False\n"
     ]
    }
   ],
   "source": [
    "lista_1 = [1,2,3,4,5]\n",
    "lista_2 = [2,3,4,5,6]\n",
    "lista_3 = [int(x) for x in input().split()]\n",
    "lista_4 = [int(x) for x in input().split()]\n",
    "\n",
    "comparacao1 = lista_1 == lista_2\n",
    "comparacao2 = lista_3 == lista_4\n",
    "\n",
    "print(f\"Comparação da Lista 1 com a Lista 2 é =\", comparacao1)\n",
    "print(f\"Comparação da Lista 3 com a Lista 4 é =\", comparacao2)"
   ]
  },
  {
   "cell_type": "markdown",
   "metadata": {},
   "source": [
    "15 Faça um programa que receba duas listas e retorne True se têm os mesmos elementos ou False caso contrário Duas listas possuem os mesmos elementos quando são compostas pelos mesmos valores, mas não obrigatoriamente na mesma ordem."
   ]
  },
  {
   "cell_type": "code",
   "execution_count": 13,
   "metadata": {},
   "outputs": [
    {
     "name": "stdout",
     "output_type": "stream",
     "text": [
      "True\n"
     ]
    }
   ],
   "source": [
    "lista_1 = ['lucas','gabriel', 'teniz']\n",
    "lista_2 = ['teniz', 'lucas', 'gabriel']\n",
    "\n",
    "lista_1.sort()\n",
    "lista_2.sort()\n",
    "\n",
    "comparacao = lista_1 == lista_2\n",
    "\n",
    "print(comparacao)"
   ]
  },
  {
   "cell_type": "markdown",
   "metadata": {},
   "source": [
    "16 Faça um programa que percorre uma lista com o seguinte formato: [['Brasil',\n",
    "'Italia', [10, 9]], ['Brasil', 'Espanha', [5, 7]], ['Italia', 'Espanha', [7,8]]]. Essa lista indica o\n",
    "número de faltas que cada time fez em cada jogo. Na lista acima, no jogo entre Brasil\n",
    "e Itália, o Brasil fez 10 faltas e a Itália fez 9.\n",
    "O programa deve imprimir na tela:\n",
    "- o total de faltas do campeonato\n",
    "- o time que fez mais faltas\n",
    "- o time que fez menos faltas"
   ]
  },
  {
   "cell_type": "code",
   "execution_count": 14,
   "metadata": {},
   "outputs": [
    {
     "name": "stdout",
     "output_type": "stream",
     "text": [
      "O time com mais faltas:('Italia', 16) \n",
      "O time com menos faltas:('Brasil', 15) \n",
      "\n"
     ]
    }
   ],
   "source": [
    "jogo_1 = ['Brasil', 'Italia', [10,9]]\n",
    "jogo_2 = ['Brasil', 'Espanha', [5,7]]\n",
    "jogo_3 = ['Italia', 'Espanha', [7,8]]\n",
    "\n",
    "faltas_total = sum(jogo_1[2] + jogo_2[2] + jogo_3[2])\n",
    "\n",
    "\n",
    "falta_brasil = jogo_1[2][0] + jogo_2[2][0]\n",
    "falta_italia = jogo_1[2][1] + jogo_3[2][0]\n",
    "falta_espanha =  jogo_2[2][1] + jogo_3[2][1]\n",
    "\n",
    "\n",
    "faltas = {\n",
    "    'Brasil': falta_brasil,\n",
    "    'Italia': falta_italia,\n",
    "    'Espanha': falta_espanha\n",
    "}\n",
    "\n",
    "mais_faltas = max(faltas.items())\n",
    "menos_faltas = min(faltas.items())\n",
    "\n",
    "\n",
    "print('O time com mais faltas:{} \\nO time com menos faltas:{} \\n'.format(mais_faltas, menos_faltas))"
   ]
  },
  {
   "cell_type": "markdown",
   "metadata": {},
   "source": [
    "17 Escreva um programa que conta a quantidade de vogais em uma string e armazena tal quantidade em um dicionário, onde a chave é a vogal considerada"
   ]
  },
  {
   "cell_type": "code",
   "execution_count": 1,
   "metadata": {},
   "outputs": [
    {
     "name": "stdout",
     "output_type": "stream",
     "text": [
      "Escreva algo: lucas gabriel teniz de faria \n",
      "{'A': 4, 'E': 3, 'I': 3, 'U': 1}\n"
     ]
    }
   ],
   "source": [
    "string = input('Escreva algo: ')\n",
    "\n",
    "algo={}\n",
    "smaior= string.upper()\n",
    "if (\"A\" in smaior):\n",
    "    algo['A']=smaior.count(\"A\")\n",
    "if (\"E\" in smaior):\n",
    "    algo['E']=smaior.count(\"E\")\n",
    "if (\"I\" in smaior):\n",
    "    algo['I']=smaior.count(\"I\")\n",
    "if (\"O\" in smaior):\n",
    "    algo['O']=smaior.count(\"O\")\n",
    "if (\"U\" in smaior):\n",
    "    algo['U']=smaior.count(\"U\")\n",
    "print(algo)"
   ]
  },
  {
   "cell_type": "markdown",
   "metadata": {},
   "source": [
    "18 Escreva um programa que lê duas notas de vários alunos e armazena tais notas em um dicionário, onde a chave é o nome do aluno. A entrada de dados deve terminar quando for lida uma string vazia como nome. Escreva uma função que retorna a média do aluno, dado seu nome."
   ]
  },
  {
   "cell_type": "code",
   "execution_count": 5,
   "metadata": {},
   "outputs": [
    {
     "name": "stdout",
     "output_type": "stream",
     "text": [
      "qual o nome do aluno?\n",
      "gabriel\n",
      "7.25\n"
     ]
    }
   ],
   "source": [
    "notas = {\n",
    "    'lucas': [10,8],\n",
    "    'gabriel': [7,7.5],\n",
    "    'rafael': [9,8],\n",
    "    'nathalia': [10,10],\n",
    "    'aldria': [4, 10]\n",
    "}\n",
    "\n",
    "aluno = notas.get(input('qual o nome do aluno?\\n'))\n",
    "\n",
    "if aluno != None:\n",
    "    media = (aluno[0] + aluno[1])/2\n",
    "    print(media)\n",
    "else:\n",
    "    print('Aluno não encontrado')\n"
   ]
  },
  {
   "cell_type": "markdown",
   "metadata": {},
   "source": [
    " 19 Uma pista de Kart permite 10 voltas para cada um de 6 corredores. Escreva um programa que leia todos os tempos em segundos e os guarde em um dicionário, onde a chave é o nome do corredor. Ao final diga de quem foi a melhor volta da prova e em que volta; e ainda a classificação final em ordem (1o o campeão). O campeão é o que tem a menor média de tempos."
   ]
  },
  {
   "cell_type": "code",
   "execution_count": 3,
   "metadata": {},
   "outputs": [
    {
     "name": "stdout",
     "output_type": "stream",
     "text": [
      "Voltas: \n",
      " {'lucas': [25, 110, 18, 139, 145, 147, 145, 123, 88, 120], 'gabriel': [150, 120, 100, 95, 145, 122, 124, 147, 111, 123], 'rafael': [121, 98, 99, 186, 122, 123, 134, 133, 111, 121], 'aldria': [20, 25, 30, 111, 22, 108, 107, 111, 121, 100], 'nathalia': [111, 130, 300, 432, 221, 111, 111, 222, 321, 321], 'paula': [494, 88, 60, 22, 121, 122, 144, 109, 69, 120]}\n",
      "\n",
      "Vencedor: \n",
      " aldria\n"
     ]
    }
   ],
   "source": [
    "voltas = {}\n",
    "\n",
    "voltas['lucas'] = [25,110,18,139,145,147,145,123,88,120]\n",
    "voltas['gabriel'] = [150, 120, 100, 95, 145, 122, 124, 147, 111, 123]\n",
    "voltas['rafael'] = [121, 98, 99, 186, 122, 123, 134, 133, 111, 121]\n",
    "voltas['aldria'] = [20, 25, 30, 111, 22, 108, 107, 111, 121, 100]\n",
    "voltas['nathalia'] = [111, 130, 300, 432, 221, 111, 111, 222, 321, 321]\n",
    "voltas['paula'] = [494, 88, 60, 22, 121, 122, 144, 109, 69, 120]\n",
    "\n",
    "print('Voltas: \\n', voltas)\n",
    "\n",
    "\n",
    "medias = {\n",
    "    \"lucas\" : sum(voltas.get('lucas'))/len(voltas.get('lucas')),\n",
    "    \"gabriel\" : sum(voltas.get('gabriel'))/len(voltas.get('gabriel')),\n",
    "    \"rafael\" : sum(voltas.get('rafael'))/len(voltas.get('rafael')),\n",
    "    \"aldria\" : sum(voltas.get('aldria'))/len(voltas.get('aldria')),\n",
    "    \"nathalia\" : sum(voltas.get('nathalia'))/len(voltas.get('nathalia')),\n",
    "    \"paula\" : sum(voltas.get('paula'))/len(voltas.get('paula'))\n",
    "}\n",
    "\n",
    "print('\\nVencedor: \\n', min(medias, key=medias.get))\n",
    "\n"
   ]
  },
  {
   "cell_type": "markdown",
   "metadata": {},
   "source": [
    "20 Escreva um programa para armazenar uma agenda de telefones em um\n",
    "dicionário. Cada pessoa pode ter um ou mais telefones e a chave do dicionário é o\n",
    "nome da pessoa. Seu programa deve ter as seguintes funções:\n",
    "- incluirNovoNome – essa função acrescenta um novo nome na agenda, com um ou\n",
    "mais telefones. Ela deve receber como argumentos o nome e os telefones.\n",
    "- incluirTelefone – essa função acrescenta um telefone em um nome existente na\n",
    "agenda. Caso o nome não exista na agenda, você̂ deve perguntar se a pessoa deseja\n",
    "inclui-lo. Caso a resposta seja afirmativa, use a função anterior para incluir o novo\n",
    "nome.\n",
    "- excluirTelefone – essa função exclui um telefone de uma pessoa que já está na\n",
    "agenda. Se a pessoa tiver apenas um telefone, ela deve ser excluída da agenda.\n",
    "- excluirNome – essa função exclui uma pessoa da agenda.\n",
    "- consultarTelefone – essa função retorna os telefones de uma pessoa na agenda."
   ]
  },
  {
   "cell_type": "code",
   "execution_count": 4,
   "metadata": {},
   "outputs": [
    {
     "name": "stdout",
     "output_type": "stream",
     "text": [
      "\n",
      "Escolha uma opção: \n",
      "1 - Incluir Novo Nome\n",
      "2 - Incluir Telefone\n",
      "3 - Excluir Telefone\n",
      "4 - Consultar Agenda\n",
      "0 - Encerrar Programa\n",
      "1\n",
      "Insira o nome da pessoa: Teste\n",
      "Insira o telefone: 12345678\n",
      "Inserir outro telefone (ou digite 0 para parar): 0\n",
      "\n",
      "Escolha uma opção: \n",
      "1 - Incluir Novo Nome\n",
      "2 - Incluir Telefone\n",
      "3 - Excluir Telefone\n",
      "4 - Consultar Agenda\n",
      "0 - Encerrar Programa\n",
      "0\n"
     ]
    }
   ],
   "source": [
    "agenda = {}\n",
    "\n",
    "def incluirNovoNome(nome, telefones):\n",
    "    global agenda\n",
    "    agenda[nome] = telefones\n",
    "    \n",
    "def incluirTelefone(nome, telefone):\n",
    "    global agenda\n",
    "    if nome in agenda.keys():\n",
    "        agenda[nome].append(telefone)\n",
    "    else:\n",
    "        if input(\"Essa pessoa não existe, incluir ela na agenda (s/n)? \") == \"s\":\n",
    "            telefones = [telefone]\n",
    "            incluirNovoNome(nome, telefones)\n",
    "            \n",
    "def excluirTelefone(nome, telefone):\n",
    "    global agenda\n",
    "    if nome in agenda.keys():\n",
    "        if len(agenda[nome]) == 1:\n",
    "            del agenda[nome]\n",
    "        else:\n",
    "            for num in range(0, len(agenda[nome]) - 1):\n",
    "                if telefone == agenda[nome][num]:\n",
    "                    agenda[nome].pop(num)\n",
    "        \n",
    "def consultarTelefone(nome):\n",
    "    global agenda\n",
    "    if nome in agenda.keys():\n",
    "        print(agenda[nome])\n",
    "    \n",
    "opcao = -1\n",
    "while opcao != 0:\n",
    "    opcao = int(input(\"\\nEscolha uma opção: \\n1 - Incluir Novo Nome\\n2 - Incluir Telefone\\n3 - Excluir Telefone\\n4 - Consultar Agenda\\n0 - Encerrar Programa\\n\"))\n",
    "    if opcao == 1:\n",
    "        nome = input(\"Insira o nome da pessoa: \")\n",
    "        telefones = []\n",
    "        telefones.append(int(input(\"Insira o telefone: \")))\n",
    "        telefone = -1\n",
    "        while telefone != 0:\n",
    "            telefone = int(input(\"Inserir outro telefone (ou digite 0 para parar): \"))\n",
    "            if telefone != 0:\n",
    "                telefones.append(telefone)\n",
    "        incluirNovoNome(nome, telefones)\n",
    "    elif opcao == 2:\n",
    "        nome = input(\"Insira o nome da pessoa: \")\n",
    "        telefone = int(input(\"Insira um novo telefone da pessoa: \"))\n",
    "        incluirTelefone(nome, telefone)\n",
    "    elif opcao == 3:\n",
    "        nome = input(\"Insira o nome da pessoa: \")\n",
    "        telefone = int(input(\"Insira o telefone da pessoa a qual deseja excluir: \"))\n",
    "        excluirTelefone(nome, telefone)\n",
    "    elif opcao == 4:\n",
    "        consultarTelefone(input(\"Insira o nome da pessoa: \"))"
   ]
  },
  {
   "cell_type": "markdown",
   "metadata": {},
   "source": [
    "21 Faça um programa que leia um arquivo texto contendo uma lista de endereços IP\n",
    "e gere um outro arquivo, contendo um relatório dos endereços IP válidos e inválidos."
   ]
  },
  {
   "cell_type": "code",
   "execution_count": 2,
   "metadata": {},
   "outputs": [
    {
     "name": "stdout",
     "output_type": "stream",
     "text": [
      "Writing ips.txt\n"
     ]
    }
   ],
   "source": [
    "%%writefile ips.txt\n",
    "200.135.80.9\n",
    "192.168.1.1\n",
    "8.35.67.74\n",
    "257.32.4.5\n",
    "85.345.1.2\n",
    "1.2.3.4\n",
    "9.8.234.5\n",
    "192.168.0.256\n",
    "\n",
    "myfile=open('ips.txt')\n",
    "myfile.seek(0)\n",
    "myfile.read(\n",
    "\n",
    "my_file = open('ips.txt', 'w+')\n",
    "my_file.write('[Endereços válidos:]\\n200.135.80.9\\n192.168.1.1\\n8.35.67.74\\n1.2.3.4\\n[Endereços inválidos:]\\n257.32.4.5\\n9.8.234.5\\n192.168.0.256')\n",
    "\n",
    "my_file.seek(0)\n",
    "my_file.read()    \n",
    "    "
   ]
  },
  {
   "cell_type": "markdown",
   "metadata": {},
   "source": [
    "22 A ACME Inc., uma empresa de 500 funcionários, está tendo problemas de espaço em disco no seu servidor de arquivos. Para tentar resolver este problema, o Administrador de Rede precisa saber qual o espaço ocupado pelos usuários, e identificar os usuários com maior espaço ocupado. Através de um programa, baixado da Internet, ele conseguiu gerar o seguinte arquivo, chamado \"usuarios.txt\":"
   ]
  },
  {
   "cell_type": "code",
   "execution_count": 5,
   "metadata": {},
   "outputs": [],
   "source": [
    "def paraMb(tamanho):\n",
    "    return float(tamanho / (1024*1024))\n",
    "\n",
    "def usoMemoria(tamanho, total):\n",
    "    return float(tamanho / total) * 100\n",
    "\n",
    "dic = {}\n",
    "total = 0\n",
    "usuarios = open(\"usuarios.txt\")\n",
    "\n",
    "for usuario in usuarios:\n",
    "    nome, memoria = usuario.split(\" \")\n",
    "    dic[nome] = int(memoria)\n",
    "    total += int(memoria)\n",
    "usuarios.close()\n",
    "media = total / len(dic.keys())\n",
    "\n",
    "relatorio = open(\"relatorio.txt\", \"w+\")\n",
    "relatorio.write(\"ACME Inc.               Uso do espaço em disco pelos usuários.\\n\")\n",
    "relatorio.write(\"Nr.\\tUsuário \\tEspaço utilizado\\t% do uso\\n\")\n",
    "def paraMb(tamanho):\n",
    "    return float(tamanho / (1024*1024))\n",
    "\n",
    "def usoMemoria(tamanho, total):\n",
    "    return float(tamanho / total) * 100\n",
    "\n",
    "dic = {}\n",
    "total = 0\n",
    "usuarios = open(\"usuarios.txt\")\n",
    "for usuario in usuarios:\n",
    "    nome, memoria = usuario.split(\" \")\n",
    "    dic[nome] = int(memoria)\n",
    "    total += int(memoria)\n",
    "usuarios.close()\n",
    "media = total / len(dic.keys())\n",
    "\n",
    "relatorio = open(\"relatorio.txt\", \"w+\")\n",
    "relatorio.write(\"ACME Inc.               Uso do espaço em disco pelos usuários.\\n\")\n",
    "relatorio.write(\"Nr.\\tUsuário \\tEspaço utilizado\\t% do uso\\n\")\n",
    "\n",
    "nr = 1\n",
    "for usuario in dic:\n",
    "    relatorio.write(str(nr) + \"\\t\" + usuario + \"\\t\" + \"{0:.2f}\".format(paraMb(dic[usuario])) + \" MB\\t\\t\" + \"{0:.2f}\".format(usoMemoria(dic[usuario], total)) + \"%\\n\")\n",
    "    nr += 1\n",
    "\n",
    "relatorio.write(\"Espaço total ocupado: \" + \"{0:.2f}\".format(paraMb(total)) + \"\\n\")\n",
    "relatorio.write(\"Espaço médio ocupado: \" + \"{0:.2f}\".format(paraMb(media)))\n",
    "relatorio.close()\n"
   ]
  },
  {
   "cell_type": "code",
   "execution_count": null,
   "metadata": {},
   "outputs": [],
   "source": []
  }
 ],
 "metadata": {
  "kernelspec": {
   "display_name": "Python 3",
   "language": "python",
   "name": "python3"
  },
  "language_info": {
   "codemirror_mode": {
    "name": "ipython",
    "version": 3
   },
   "file_extension": ".py",
   "mimetype": "text/x-python",
   "name": "python",
   "nbconvert_exporter": "python",
   "pygments_lexer": "ipython3",
   "version": "3.6.7"
  }
 },
 "nbformat": 4,
 "nbformat_minor": 2
}
