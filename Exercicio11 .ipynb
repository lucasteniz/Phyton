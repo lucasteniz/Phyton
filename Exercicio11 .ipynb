{
 "cells": [
  {
   "cell_type": "markdown",
   "metadata": {},
   "source": [
    "## Lista de Exercícios 11\n",
    "Lucas Gabriel Teniz de Faria\n",
    "RA 81612246"
   ]
  },
  {
   "cell_type": "markdown",
   "metadata": {},
   "source": [
    "1 Menor de dois pares: Escreva uma função que retorne o menor de dois números\n",
    "dados se ambos os números forem pares, mas retorna o maior se um dos dois for\n",
    "ímpar. Exemplo:\n",
    "menor_de_dois_pares(2,4) --> 2\n",
    "menor_de_dois_pares (2,5) --> 5"
   ]
  },
  {
   "cell_type": "code",
   "execution_count": 4,
   "metadata": {},
   "outputs": [
    {
     "name": "stdout",
     "output_type": "stream",
     "text": [
      "2\n",
      "5\n",
      "5\n",
      "2\n",
      "4\n"
     ]
    }
   ],
   "source": [
    "def menorPar (a, b):\n",
    "    return min(a,b) if a % 2 == 0 and b % 2 == 0 else max(a,b)\n",
    "\n",
    "print(menorPar(2,6))\n",
    "print(menorPar(2,5))\n",
    "print(menorPar(5,2))\n",
    "print(menorPar(1,2))\n",
    "print(menorPar(4,6))"
   ]
  },
  {
   "cell_type": "markdown",
   "metadata": {},
   "source": [
    "2 Mesma letra: Escreva uma função que receba uma string com duas palavras e\n",
    "retorne True se ambas palavras começarem com a mesma letra. Exemplo:\n",
    "mesma_letra('Cão covarde') -> True\n",
    "mesma_letra('Vira Lata') -> False"
   ]
  },
  {
   "cell_type": "code",
   "execution_count": 6,
   "metadata": {},
   "outputs": [
    {
     "name": "stdout",
     "output_type": "stream",
     "text": [
      "True\n"
     ]
    }
   ],
   "source": [
    "def comecam_com_a_mesma_letra (palavra):\n",
    "    partes = palavra.split(\" \")\n",
    "    if partes[0][0].upper() == partes[1][0].upper():\n",
    "        return True\n",
    "    return False\n",
    "\n",
    "#print (comecam_com_a_mesma_letra(\"Cão covarde\"))\n",
    "resultado1 = comecam_com_a_mesma_letra(\"Cão covarde\")\n",
    "resultado2 = comecam_com_a_mesma_letra(\"Vira Lata\")\n",
    "print(resultado1)"
   ]
  },
  {
   "cell_type": "markdown",
   "metadata": {},
   "source": [
    "3 Mestre Yoda: Dada uma sentença, a função deve retornar a sentença com as\n",
    "palavras na ordem reversa. Exemplo:\n",
    "mestre_yoda('Eu estou em casa') --> 'casa em estou Eu'\n",
    "mestre_yoda('Estamos prontos') --> 'prontos Estamos'"
   ]
  },
  {
   "cell_type": "code",
   "execution_count": 5,
   "metadata": {},
   "outputs": [
    {
     "name": "stdout",
     "output_type": "stream",
     "text": [
      "['casa', 'em', 'estou', 'Eu']\n",
      "['prontos', 'Estamos']\n"
     ]
    }
   ],
   "source": [
    "def reverse(frase):\n",
    "    partes = frase.split(\" \")\n",
    "    return partes[::-1]\n",
    "\n",
    "print(reverse(\"Eu estou em casa\"))\n",
    "print(reverse(\"Estamos prontos\"))"
   ]
  },
  {
   "cell_type": "markdown",
   "metadata": {},
   "source": [
    "4 Tem 33: Faça uma função que retorne True se, dada uma lista de inteiros, houver\n",
    "em alguma posição da lista um 3 do lado de outro 3. Exemplo:\n",
    "tem_33([1,3,3]) --> True\n",
    "tem_33([1,3,1,3]) --> False\n",
    "tem_33([3,1,3]) --> False"
   ]
  },
  {
   "cell_type": "code",
   "execution_count": 7,
   "metadata": {},
   "outputs": [
    {
     "name": "stdout",
     "output_type": "stream",
     "text": [
      "True\n",
      "False\n",
      "True\n"
     ]
    }
   ],
   "source": [
    "def tem_33 (lista):\n",
    "    status = \"Nada\"\n",
    "    for simbolo in lista:\n",
    "        if simbolo == 3:\n",
    "            if status == \"Nada\":\n",
    "                status = \"Três\"\n",
    "            elif status == \"Três\":\n",
    "                return True\n",
    "        else:\n",
    "            if status == \"Três\":\n",
    "                status = \"Nada\"\n",
    "    return False\n",
    "\n",
    "print(tem_33([3, 3, 1]))\n",
    "print(tem_33([3, 1, 3]))\n",
    "print(tem_33([3, 1, 3, 1, 3, 3]))"
   ]
  },
  {
   "cell_type": "markdown",
   "metadata": {},
   "source": [
    "5 Blackjack: Faça uma função que receba 3 inteiros entre 1 e 11. Se a soma deles for\n",
    "menor que 21, retorne o valor da soma. Se for mair do que 21 e houver um 11,\n",
    "subtraia 10 da soma antes de apresentar o resultado. Se o valor da soma passar de\n",
    "21, retorne ‘ESTOUROU’. Exemplo:\n",
    "blackjack(5,6,7) --> 18\n",
    "blackjack(9,9,9) --> 'ESTOUROU'\n",
    "blackjack(9,9,11) --> 19"
   ]
  },
  {
   "cell_type": "code",
   "execution_count": 8,
   "metadata": {},
   "outputs": [
    {
     "name": "stdout",
     "output_type": "stream",
     "text": [
      "18\n",
      "ESTOUROU!! 27\n",
      "19\n"
     ]
    }
   ],
   "source": [
    "def blackjack (a, b, c):\n",
    "    soma = a + b + c\n",
    "    if soma <= 21:\n",
    "        return soma\n",
    "    else:\n",
    "        if 11 in [a, b, c]:\n",
    "            return soma - 10\n",
    "        return (f\"ESTOUROU!! {soma}\")\n",
    "    \n",
    "print(blackjack(5,6,7))\n",
    "print(blackjack(9,9,9))\n",
    "print(blackjack(9,9,11))"
   ]
  },
  {
   "cell_type": "markdown",
   "metadata": {},
   "source": [
    "6 Espião: Escreva uma função que receba uma lista de\n",
    "inteiros e retorne True se contém um 007 em ordem, mesmo\n",
    "que não contínuo. Exemplo:\n",
    "espiao([1,2,4,0,0,7,5]) --> True\n",
    "espiao([1,0,2,4,0,5,7]) --> True\n",
    "espiao([1,7,2,4,0,5,0]) --> False"
   ]
  },
  {
   "cell_type": "code",
   "execution_count": 9,
   "metadata": {},
   "outputs": [
    {
     "name": "stdout",
     "output_type": "stream",
     "text": [
      "True\n",
      "True\n",
      "False\n",
      "True\n"
     ]
    }
   ],
   "source": [
    "def espiao(lista):\n",
    "    status = \"Nada\"\n",
    "    for num in lista:\n",
    "        if num == 0:\n",
    "            if status == \"Nada\":\n",
    "                status = \"0\"\n",
    "            elif status == \"0\":\n",
    "                status = \"00\"\n",
    "        elif num == 7:\n",
    "            if status == \"00\":\n",
    "                return True\n",
    "    return False\n",
    "\n",
    "print(espiao([1,2,4,0,0,7,5]))\n",
    "print(espiao([1,0,4,1,0,7,5]))\n",
    "print(espiao([1,4,0,0,5]))\n",
    "print(espiao([0,0,7]))"
   ]
  },
  {
   "cell_type": "markdown",
   "metadata": {},
   "source": [
    "7 Linha: Crie a classe Linha que tem dois atributos, coordenada1 e coordenada2.\n",
    "Cada coordenada é uma tupla que carrega duas coordenadas cartesianas (x,y) que\n",
    "denotam pontos do segmento de reta. Faça métodos que calculem o comprimento\n",
    "do segmento de reta e sua inclinação."
   ]
  },
  {
   "cell_type": "code",
   "execution_count": 10,
   "metadata": {},
   "outputs": [
    {
     "name": "stdout",
     "output_type": "stream",
     "text": [
      "Digite o X1 da Coordenada 1 = 3\n",
      "Digite o Y1 da Coordenada 1 = 6\n",
      "Digite o X2 da Coordenada 2 = 9\n",
      "Digite o Y2 da Coordenada 2 = 12\n",
      "O ponto de segmento de reta é de  8.48528137423857 E sua inclinação é de  1.0\n"
     ]
    }
   ],
   "source": [
    "import math\n",
    "class Linha:\n",
    "    def __init__(self, cor1, cor2):\n",
    "        self.cor1 = cor1\n",
    "        self.cor2 = cor2\n",
    "        \n",
    "    def formula(self):\n",
    "        return math.sqrt(((x2 - x1)**2) + ((y2 - y1)**2))\n",
    "    \n",
    "    def inclinacao(self):\n",
    "        return ((y2 - y1) / (x2 - x1))\n",
    "        \n",
    "x1 = int(input(\"Digite o X1 da Coordenada 1 = \"))\n",
    "y1 = int(input(\"Digite o Y1 da Coordenada 1 = \"))\n",
    "x2 = int(input(\"Digite o X2 da Coordenada 2 = \"))\n",
    "y2 = int(input(\"Digite o Y2 da Coordenada 2 = \"))\n",
    "\n",
    "\n",
    "c = Linha(cor1=(x1,y1), cor2=(x2,y2));\n",
    "print (\"O ponto de segmento de reta é de \", c.formula(), \"E sua inclinação é de \", c.inclinacao())"
   ]
  },
  {
   "cell_type": "markdown",
   "metadata": {},
   "source": [
    "8 Figuras: Crie a seguinte hierarquia de classes de figuras geométricas. Veja na figura\n",
    "as fórmulas:\n",
    "a. A classe abstrata Figura deve ter o método abstrato area.\n",
    "b. A classe concreta Circulo é subclasse de Figura.\n",
    "c. A classe abstrata Poligono é subclasse de Figura e deve ter os atributos base e\n",
    "altura .\n",
    "d. As classes concretas Triangulo, Losango, Retangulo e Quadrado são subclasses\n",
    "de Poligono. Tente criar mais uma generalização aqui olhando as fórmulas da área.\n",
    "e. Os polígonos Retangulo e Quadrado devem implementar a interface Diagonal,\n",
    "que deve ter um método que calcula a diagonal.\n",
    "f. Crie uma classe Geometria com uma lista de Figuras com pelo menos uma\n",
    "figura de cada e imprima suas áreas, perímetros e diagonais."
   ]
  },
  {
   "cell_type": "code",
   "execution_count": 1,
   "metadata": {},
   "outputs": [
    {
     "name": "stdout",
     "output_type": "stream",
     "text": [
      "Área:  706.8583470577034\n",
      "Diagonal None\n",
      "Perímetro: 94.24777960769379\n",
      "\n",
      "Área:  28.0\n",
      "Diagonal None\n",
      "Perímetro: None\n",
      "\n",
      "Área:  32\n",
      "Diagonal 8.94427190999916\n",
      "Perímetro: 24\n",
      "\n",
      "Área:  21.0\n",
      "Diagonal None\n",
      "Perímetro: 26\n",
      "\n",
      "Área:  49\n",
      "Diagonal 9.899494936611665\n",
      "Perímetro: 28\n",
      "\n"
     ]
    }
   ],
   "source": [
    "from abc import ABC, abstractmethod\n",
    "import math\n",
    "class Figura(ABC):\n",
    "\n",
    "    def __init__(self):\n",
    "        super().__init__()\n",
    "\n",
    "    @abstractmethod\n",
    "    def area(self):\n",
    "        pass\n",
    "\n",
    "    @abstractmethod\n",
    "    def perimetro(self):\n",
    "        pass\n",
    "\n",
    "class Circulo(Figura):\n",
    "\n",
    "    def __init__(self, raio):\n",
    "        self.raio = raio\n",
    "        Figura.__init__(self)\n",
    "\n",
    "    def area(self):\n",
    "        return math.pi * (self.raio**2)\n",
    "\n",
    "    def perimetro(self):\n",
    "        return 2 * math.pi * self.raio\n",
    "\n",
    "    def diagonal(self):\n",
    "        pass\n",
    "\n",
    "    \n",
    "\n",
    "class Poligono(Figura, ABC):\n",
    "\n",
    "    def __init__(self, base, altura):\n",
    "        self.base = base\n",
    "        self.altura = altura\n",
    "        Figura.__init__(self)\n",
    "\n",
    "class Diagonal(ABC):\n",
    "\n",
    "    def __init__(self):\n",
    "        super().__init__()\n",
    "\n",
    "    def diagonal(self):\n",
    "        return math.sqrt((self.base**2) + (self.altura**2))\n",
    "\n",
    "class Triangulo(Poligono):\n",
    "\n",
    "    def __init__(self, base, altura):\n",
    "        super().__init__(base, altura)\n",
    "\n",
    "    def area(self):\n",
    "        return (self.base * self.altura) / 2\n",
    "\n",
    "    def perimetro(self):\n",
    "        pass\n",
    "    \n",
    "    def diagonal(self):\n",
    "        pass\n",
    "\n",
    "class Losango(Poligono):\n",
    "\n",
    "    def __init__(self, base, altura):\n",
    "        Poligono.__init__(self, base, altura)\n",
    "\n",
    "    def area(self):\n",
    "        return (self.base * self.altura) / 2\n",
    "\n",
    "    def perimetro(self):\n",
    "        return self.base*2 + self.altura*2\n",
    "\n",
    "    def diagonal(self):\n",
    "        pass\n",
    "\n",
    "class Retangulo(Poligono, Diagonal):\n",
    "\n",
    "    def __init__(self, base, altura):\n",
    "        Poligono.__init__(self, base, altura)\n",
    "        Diagonal.__init__(self)\n",
    "\n",
    "    def area(self):\n",
    "        return self.base * self.altura\n",
    "\n",
    "    def diagonal(self):\n",
    "        return math.sqrt((self.base**2) + (self.altura**2))\n",
    "\n",
    "    def perimetro(self):\n",
    "        return self.base*2 + self.altura*2\n",
    "\n",
    "class Quadrado(Poligono):\n",
    "\n",
    "    def __init__(self, base, altura):\n",
    "        super().__init__(base, altura)\n",
    "\n",
    "    def area(self):\n",
    "        return self.base * self.altura\n",
    "\n",
    "    def perimetro(self):\n",
    "        return self.base*2 + self.altura*2\n",
    "\n",
    "    def diagonal(self):\n",
    "        return math.sqrt((self.base**2) + (self.altura**2))\n",
    "\n",
    "class Geometria:\n",
    "\n",
    "    def __init__(self):\n",
    "        self.figuras = [\n",
    "            Circulo(15),\n",
    "            Triangulo(7, 8),\n",
    "            Quadrado(4, 8),\n",
    "            Losango(6, 7),\n",
    "            Retangulo(7, 7)\n",
    "        ]\n",
    "\n",
    "geometria = Geometria()\n",
    "for figura in geometria.figuras:\n",
    "    print(\"Área: \", figura.area())\n",
    "    print(\"Diagonal\", figura.diagonal())\n",
    "    print(\"Perímetro: \" + str(figura.perimetro()) + \"\\n\")"
   ]
  }
 ],
 "metadata": {
  "kernelspec": {
   "display_name": "Python 3",
   "language": "python",
   "name": "python3"
  },
  "language_info": {
   "codemirror_mode": {
    "name": "ipython",
    "version": 3
   },
   "file_extension": ".py",
   "mimetype": "text/x-python",
   "name": "python",
   "nbconvert_exporter": "python",
   "pygments_lexer": "ipython3",
   "version": "3.6.7"
  }
 },
 "nbformat": 4,
 "nbformat_minor": 2
}
