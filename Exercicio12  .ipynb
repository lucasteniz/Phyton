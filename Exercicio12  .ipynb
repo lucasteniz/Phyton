{
 "cells": [
  {
   "cell_type": "markdown",
   "metadata": {},
   "source": [
    "## Lista de Exercícios 12\n",
    "Lucas Gabriel Teniz de Faria\n",
    "RA 81612246"
   ]
  },
  {
   "cell_type": "markdown",
   "metadata": {},
   "source": [
    "1 Defina a função soma_nat que recebe como argumento um número natural n\n",
    " e devolve a soma de todos os números naturais até n."
   ]
  },
  {
   "cell_type": "code",
   "execution_count": 2,
   "metadata": {},
   "outputs": [
    {
     "name": "stdout",
     "output_type": "stream",
     "text": [
      "15\n",
      "55\n"
     ]
    }
   ],
   "source": [
    "# modo nao recursivo lista 12 \n",
    "def p_soma_nat(n):\n",
    "    soma = 0\n",
    "    for i in range (1,n+1):\n",
    "         soma += i\n",
    "    return soma\n",
    "\n",
    "print(p_soma_nat(5))\n",
    "print(p_soma_nat(10))"
   ]
  },
  {
   "cell_type": "code",
   "execution_count": 3,
   "metadata": {},
   "outputs": [
    {
     "name": "stdout",
     "output_type": "stream",
     "text": [
      "15\n",
      "55\n"
     ]
    }
   ],
   "source": [
    "# modo recursivo\n",
    "def r_soma_nat(n):\n",
    "    if n == 1:\n",
    "        return 1\n",
    "    else:\n",
    "        return n + r_soma_nat(n-1)\n",
    "print(r_soma_nat(5))\n",
    "print(r_soma_nat(10)) "
   ]
  },
  {
   "cell_type": "markdown",
   "metadata": {},
   "source": [
    "2 Defina a função div que recebe como argumentos dois números naturais m\n",
    " e n e devolve o resultado da divisão inteira de m por n. Neste exercício você não\n",
    "pode recorrer às operações aritméticas de multiplicação, divisão e resto da divisão\n",
    "inteira."
   ]
  },
  {
   "cell_type": "code",
   "execution_count": 1,
   "metadata": {},
   "outputs": [
    {
     "name": "stdout",
     "output_type": "stream",
     "text": [
      "4\n",
      "3\n",
      "2\n"
     ]
    }
   ],
   "source": [
    "# modo procedural \n",
    "def div(m,n):\n",
    "    quociente = 0;\n",
    "    while m > n:\n",
    "        m -= n\n",
    "        quociente += 1\n",
    "    return quociente\n",
    "print(div(10,2))\n",
    "print(div(10,3))\n",
    "print(div(10,4))"
   ]
  },
  {
   "cell_type": "code",
   "execution_count": 7,
   "metadata": {},
   "outputs": [
    {
     "name": "stdout",
     "output_type": "stream",
     "text": [
      "5\n",
      "3\n",
      "2\n"
     ]
    }
   ],
   "source": [
    "#recursivo\n",
    "def r_div(m,n):\n",
    "    if m < n:\n",
    "        return 0\n",
    "    else:\n",
    "        return 1 + r_div(m-n,n)\n",
    "print(r_div(10,2))\n",
    "print(r_div(10,3))\n",
    "print(r_div(10,4))    "
   ]
  },
  {
   "cell_type": "markdown",
   "metadata": {},
   "source": [
    "3 Defina a função prim_alg que recebe como argumento um número natural e\n",
    "devolve o primeiro algarismo (o mais significativo) na representação decimal de n.\n",
    "Ex: prim_alg(5649) = 5\n",
    "Ex: prim_alg(7) = 7"
   ]
  },
  {
   "cell_type": "code",
   "execution_count": 4,
   "metadata": {},
   "outputs": [
    {
     "name": "stdout",
     "output_type": "stream",
     "text": [
      "5\n",
      "7\n",
      "9\n"
     ]
    }
   ],
   "source": [
    "def prim_alg(x):\n",
    "    return x if x < 10 else prim_alg(x//10)\n",
    "\n",
    "print(prim_alg(5649))\n",
    "print(prim_alg(7))\n",
    "print(prim_alg(984))"
   ]
  },
  {
   "cell_type": "markdown",
   "metadata": {},
   "source": [
    "4 Defina a função prod_lista que recebe como argumento uma lista de inteiros e\n",
    "devolve o produto dos seus elementos.\n",
    "Ex: prod_lista([1,2,3,4,5,6]) = 720"
   ]
  },
  {
   "cell_type": "code",
   "execution_count": 5,
   "metadata": {},
   "outputs": [
    {
     "data": {
      "text/plain": [
       "720"
      ]
     },
     "execution_count": 5,
     "metadata": {},
     "output_type": "execute_result"
    }
   ],
   "source": [
    "def prod_lista(lista):\n",
    "    return lista[len(lista) - 1] * prod_lista(lista[:-1]) if len(lista) > 0 else 1\n",
    "\n",
    "prod_lista([1,2,3,4,5,6])"
   ]
  },
  {
   "cell_type": "markdown",
   "metadata": {},
   "source": [
    "5 Defina a função contem_parQ que recebe como argumento uma lista de números\n",
    "inteiros w e devolve True se w contém um número par e False em caso contrário. "
   ]
  },
  {
   "cell_type": "code",
   "execution_count": 2,
   "metadata": {},
   "outputs": [
    {
     "name": "stdout",
     "output_type": "stream",
     "text": [
      "True\n",
      "False\n"
     ]
    }
   ],
   "source": [
    "#modo procedural \n",
    "def contem_parQ(w):\n",
    "    for i in w:\n",
    "        if i%2 == 0:\n",
    "            return True\n",
    "    else:\n",
    "        return False \n",
    "print(contem_parQ([2,3,1,2,3,4]))\n",
    "print(contem_parQ([1,3,5,7]))"
   ]
  },
  {
   "cell_type": "code",
   "execution_count": 1,
   "metadata": {},
   "outputs": [
    {
     "name": "stdout",
     "output_type": "stream",
     "text": [
      "True\n",
      "False\n"
     ]
    }
   ],
   "source": [
    "#modo recursivo\n",
    "def r_contem_parQ(w):\n",
    "    if len(w) == 0:\n",
    "        return False\n",
    "    else:\n",
    "        a = w.pop()\n",
    "        if a%2 == 0:\n",
    "            return True\n",
    "        else:\n",
    "            return r_contem_parQ(w)\n",
    "print(r_contem_parQ([2,3,1,2,3,4]))\n",
    "print(r_contem_parQ([1,3,5,7]))"
   ]
  },
  {
   "cell_type": "markdown",
   "metadata": {},
   "source": [
    "6 Defina a função todos_imparesQ que recebe como argumento uma lista de\n",
    "números inteiros w e devolve True se w contém apenas números ímpares e False\n",
    "em caso contrário."
   ]
  },
  {
   "cell_type": "code",
   "execution_count": 3,
   "metadata": {},
   "outputs": [
    {
     "name": "stdout",
     "output_type": "stream",
     "text": [
      "False\n",
      "True\n"
     ]
    }
   ],
   "source": [
    "def r_todos_imparesQ(w):\n",
    "        if len(w) == 0:\n",
    "            return True\n",
    "        else:\n",
    "            a = w.pop()\n",
    "            if a %2 == 0:\n",
    "                return False\n",
    "            else:\n",
    "                return r_todos_imparesQ(w)\n",
    "print(r_todos_imparesQ([2,3,1,2,3,4]))\n",
    "print(r_todos_imparesQ([1,3,5,7]))"
   ]
  },
  {
   "cell_type": "markdown",
   "metadata": {},
   "source": [
    "7 Defina a função pertenceQ que recebe como argumentos uma lista de números\n",
    "inteiros w e um número inteiro n e devolve True se n ocorre em w e False em\n",
    "caso contrário."
   ]
  },
  {
   "cell_type": "code",
   "execution_count": 11,
   "metadata": {},
   "outputs": [
    {
     "name": "stdout",
     "output_type": "stream",
     "text": [
      "True\n",
      "True\n",
      "True\n",
      "False\n"
     ]
    }
   ],
   "source": [
    "def pertenceQ(l, n, i):\n",
    "    if i == len(l): return False\n",
    "    return True if l[i] == n else pertenceQ(l, n, i+1)\n",
    "\n",
    "print(pertenceQ([1,2,3],1,0))\n",
    "print(pertenceQ([1,2,3],2,0))\n",
    "print(pertenceQ([1,2,3],3,0))\n",
    "print(pertenceQ([1,2,3],4,0))"
   ]
  },
  {
   "cell_type": "markdown",
   "metadata": {},
   "source": [
    "8 Defina a função junta que recebe como argumentos duas listas de números\n",
    "inteiros w1 e w2 e devolve a concatenação de w1 com w2 ."
   ]
  },
  {
   "cell_type": "code",
   "execution_count": 2,
   "metadata": {},
   "outputs": [
    {
     "name": "stdout",
     "output_type": "stream",
     "text": [
      "[1, 2, 3, 4, 5, 6]\n"
     ]
    }
   ],
   "source": [
    "def junta(w1, w2, i):\n",
    "    w1.append(w2[i]) if i >= 0 else print(\"Valor de indice inicial inválido\")\n",
    "    return w1 if i+1 == len(w2) else junta(w1,w2,i+1)\n",
    "    \n",
    "print(junta([1,2,3],[4,5,6],0))"
   ]
  },
  {
   "cell_type": "markdown",
   "metadata": {},
   "source": [
    "9 Defina a função temPrimoQ que recebe como argumento uma lista de listas de números inteiros w e devolve True se alguma das sublistas w tem um número primo e False em caso contrário. Ex: temPrimoQ([[4,4,4,4],[5,4,6,7],[2,4,3]]) = True Ex: temPrimoQ([[4,4,4,4],[4,4,4],[],[4]]) = False"
   ]
  },
  {
   "cell_type": "code",
   "execution_count": 1,
   "metadata": {},
   "outputs": [
    {
     "name": "stdout",
     "output_type": "stream",
     "text": [
      "False\n"
     ]
    }
   ],
   "source": [
    "from math import sqrt; from itertools import count, islice\n",
    "\n",
    "def isPrime(n):\n",
    "    return n > 1 and all(n%i for i in islice(count(2), int(sqrt(n)-1)))\n",
    "\n",
    "def hasPrime(l, i):\n",
    "    if i == len(l): return False\n",
    "    return True if isPrime(l[i]) else hasPrime(l, i+1)\n",
    "\n",
    "def verify(l,i):\n",
    "    if i == len(l): return False\n",
    "    return True if hasPrime(l[i],0) else verify(l,i+1)\n",
    "\n",
    "print(verify([[4,6,8],[4,12,6]],0))"
   ]
  },
  {
   "cell_type": "markdown",
   "metadata": {},
   "source": [
    "10 Defina a função inverteLista que recebe como argumento uma lista w e devolve a\n",
    "mesma lista mas invertida."
   ]
  },
  {
   "cell_type": "code",
   "execution_count": 3,
   "metadata": {},
   "outputs": [
    {
     "name": "stdout",
     "output_type": "stream",
     "text": [
      "[3, 2, 1]\n"
     ]
    }
   ],
   "source": [
    "def rev(l):\n",
    "    if len(l) == 0: return []\n",
    "    return [l[-1]] + rev(l[:-1])\n",
    "\n",
    "print(rev([1,2,3]))"
   ]
  }
 ],
 "metadata": {
  "kernelspec": {
   "display_name": "Python 3",
   "language": "python",
   "name": "python3"
  },
  "language_info": {
   "codemirror_mode": {
    "name": "ipython",
    "version": 3
   },
   "file_extension": ".py",
   "mimetype": "text/x-python",
   "name": "python",
   "nbconvert_exporter": "python",
   "pygments_lexer": "ipython3",
   "version": "3.6.7"
  }
 },
 "nbformat": 4,
 "nbformat_minor": 2
}
